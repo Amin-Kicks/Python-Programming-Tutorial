{
 "cells": [
  {
   "cell_type": "markdown",
   "id": "be82a944-14cf-4f87-ae9c-d3b51cf22a64",
   "metadata": {},
   "source": [
    "# VARIABLE ASSIGNMENT "
   ]
  },
  {
   "cell_type": "code",
   "execution_count": null,
   "id": "25f24750-c79e-4711-90f3-1dfa7b519409",
   "metadata": {
    "jp-MarkdownHeadingCollapsed": true
   },
   "outputs": [],
   "source": [
    "# Variables are temporarily used to store data in a computer memory.\n",
    "# RULES\n",
    "'''\n",
    "1. A variable name cannot start with numbers.\n",
    "2. They must not contain spaces but rather underscore. \n",
    "3. Special characters(!@#$%^&*) cant be used as a variable name.\n",
    "4. Writing in lowercases is preferred(PEP08).\n",
    "5. Avoid words that has special meaning(list,String,etc) in python.\n",
    "6. Variables can be RE-assigned to different data types. \n",
    "7. Python is statically and dynamically typed.\n",
    "8. Be aware of type\n",
    "9. RE-assigning may result in bugs'''"
   ]
  },
  {
   "cell_type": "markdown",
   "id": "97780486-7c67-4247-a37a-4a8bb61ffa8a",
   "metadata": {},
   "source": [
    "## DYNAMIC TYPING"
   ]
  },
  {
   "cell_type": "code",
   "execution_count": 3,
   "id": "b7fe5984-2ca7-4155-8990-399c19ab9788",
   "metadata": {},
   "outputs": [],
   "source": [
    "my_name=2"
   ]
  },
  {
   "cell_type": "code",
   "execution_count": 4,
   "id": "169172ce-47ef-46e5-aba0-a866173a80b1",
   "metadata": {},
   "outputs": [
    {
     "data": {
      "text/plain": [
       "2"
      ]
     },
     "execution_count": 4,
     "metadata": {},
     "output_type": "execute_result"
    }
   ],
   "source": [
    "my_name"
   ]
  },
  {
   "cell_type": "code",
   "execution_count": 9,
   "id": "5c1291df-a0c4-437f-a6e6-889dda09ee86",
   "metadata": {},
   "outputs": [],
   "source": [
    "my_name=[4,8]"
   ]
  },
  {
   "cell_type": "code",
   "execution_count": 10,
   "id": "a1f0cb42-924d-4983-93a3-a4b4dbd48a2a",
   "metadata": {},
   "outputs": [
    {
     "data": {
      "text/plain": [
       "[4, 8]"
      ]
     },
     "execution_count": 10,
     "metadata": {},
     "output_type": "execute_result"
    }
   ],
   "source": [
    "my_name"
   ]
  },
  {
   "cell_type": "code",
   "execution_count": 11,
   "id": "011d4ef2-9900-4fd9-92f0-2e4f874a7f75",
   "metadata": {},
   "outputs": [
    {
     "data": {
      "text/plain": [
       "list"
      ]
     },
     "execution_count": 11,
     "metadata": {},
     "output_type": "execute_result"
    }
   ],
   "source": [
    "type(my_name)"
   ]
  },
  {
   "cell_type": "markdown",
   "id": "5d60f1f7-60d7-455a-a177-f79c8ba236b5",
   "metadata": {},
   "source": [
    "## Assigning Variables"
   ]
  },
  {
   "cell_type": "code",
   "execution_count": 10,
   "id": "ba429dd3-50ca-41ab-b1ef-4e914b7e4be5",
   "metadata": {},
   "outputs": [
    {
     "data": {
      "text/plain": [
       "3"
      ]
     },
     "execution_count": 10,
     "metadata": {},
     "output_type": "execute_result"
    }
   ],
   "source": [
    "#Assignong Variable\n",
    "aliu=3\n",
    "aliu"
   ]
  },
  {
   "cell_type": "code",
   "execution_count": 12,
   "id": "a87acf11-6772-4317-8c26-b59c4de688cf",
   "metadata": {},
   "outputs": [
    {
     "data": {
      "text/plain": [
       "56"
      ]
     },
     "execution_count": 12,
     "metadata": {},
     "output_type": "execute_result"
    }
   ],
   "source": [
    "# RE-assign\n",
    "aliu=56\n",
    "aliu"
   ]
  },
  {
   "cell_type": "code",
   "execution_count": null,
   "id": "d48de798-0cab-476a-a833-3eaeed054aa2",
   "metadata": {},
   "outputs": [],
   "source": [
    "a = 10"
   ]
  },
  {
   "cell_type": "code",
   "execution_count": 26,
   "id": "63c4225f-9fdc-4659-9b92-97cf2e73abd4",
   "metadata": {},
   "outputs": [
    {
     "data": {
      "text/plain": [
       "20"
      ]
     },
     "execution_count": 26,
     "metadata": {},
     "output_type": "execute_result"
    }
   ],
   "source": [
    "a=10\n",
    "a+=10\n",
    "a"
   ]
  },
  {
   "cell_type": "code",
   "execution_count": 25,
   "id": "a91e4dcc-0f29-41c4-86dd-1b11016a3aa3",
   "metadata": {},
   "outputs": [
    {
     "data": {
      "text/plain": [
       "60"
      ]
     },
     "execution_count": 25,
     "metadata": {},
     "output_type": "execute_result"
    }
   ],
   "source": [
    "b=30\n",
    "b += 30\n",
    "b"
   ]
  },
  {
   "cell_type": "code",
   "execution_count": null,
   "id": "24256eb8-276d-450d-bbf2-b6654b8e6bbd",
   "metadata": {},
   "outputs": [],
   "source": []
  }
 ],
 "metadata": {
  "kernelspec": {
   "display_name": "Python 3 (ipykernel)",
   "language": "python",
   "name": "python3"
  },
  "language_info": {
   "codemirror_mode": {
    "name": "ipython",
    "version": 3
   },
   "file_extension": ".py",
   "mimetype": "text/x-python",
   "name": "python",
   "nbconvert_exporter": "python",
   "pygments_lexer": "ipython3",
   "version": "3.12.7"
  }
 },
 "nbformat": 4,
 "nbformat_minor": 5
}
