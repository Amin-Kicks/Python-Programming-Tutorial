{
 "cells": [
  {
   "cell_type": "code",
   "execution_count": null,
   "id": "f39d392e-1841-4b4d-ac16-aa2afa7c2c09",
   "metadata": {},
   "outputs": [],
   "source": [
    "# It allows comparison between variables and outputs in boolean value."
   ]
  },
  {
   "cell_type": "markdown",
   "id": "90de86de-4571-4f0b-bacc-19260d13b258",
   "metadata": {},
   "source": [
    "## Table Of Operators\n",
    "#### 1. ==: To check if the left operand is equal to the right operand.\n",
    "#### 2. !>: To check if the left operand is not equal to the right operand.\n",
    "#### 3. >: To check if the left operand greater than the right operand.\n",
    "#### 4. <: To check if the left operand is less than the right operand.\n",
    "#### 5. >=: To check if the left operand is greater than or equal to the right operand.\n",
    "#### 6. <=: To check if the left operand is less than or equal to the right operand."
   ]
  },
  {
   "cell_type": "code",
   "execution_count": 1,
   "id": "11879bf9-aac5-45c7-91a1-2956e0e53e1c",
   "metadata": {},
   "outputs": [
    {
     "data": {
      "text/plain": [
       "True"
      ]
     },
     "execution_count": 1,
     "metadata": {},
     "output_type": "execute_result"
    }
   ],
   "source": [
    "2 == 2"
   ]
  },
  {
   "cell_type": "code",
   "execution_count": 2,
   "id": "e09e3b47-f594-4b9f-b8a5-e9812ef6c491",
   "metadata": {},
   "outputs": [
    {
     "data": {
      "text/plain": [
       "False"
      ]
     },
     "execution_count": 2,
     "metadata": {},
     "output_type": "execute_result"
    }
   ],
   "source": [
    "1==0.1"
   ]
  },
  {
   "cell_type": "code",
   "execution_count": 3,
   "id": "8a9e86d7-d6e9-410b-a5ce-2d025d01bcf7",
   "metadata": {},
   "outputs": [
    {
     "data": {
      "text/plain": [
       "True"
      ]
     },
     "execution_count": 3,
     "metadata": {},
     "output_type": "execute_result"
    }
   ],
   "source": [
    "2!=4"
   ]
  },
  {
   "cell_type": "code",
   "execution_count": 4,
   "id": "01ca6476-e805-4e33-8943-a796020b2a61",
   "metadata": {},
   "outputs": [
    {
     "data": {
      "text/plain": [
       "False"
      ]
     },
     "execution_count": 4,
     "metadata": {},
     "output_type": "execute_result"
    }
   ],
   "source": [
    "4>7"
   ]
  },
  {
   "cell_type": "code",
   "execution_count": 5,
   "id": "1fa9354b-9c21-4d3e-8354-0228d3c1f8c3",
   "metadata": {},
   "outputs": [
    {
     "data": {
      "text/plain": [
       "True"
      ]
     },
     "execution_count": 5,
     "metadata": {},
     "output_type": "execute_result"
    }
   ],
   "source": [
    "9>2"
   ]
  },
  {
   "cell_type": "code",
   "execution_count": 6,
   "id": "493d5928-ae02-482c-afb9-aea48eb9234d",
   "metadata": {},
   "outputs": [
    {
     "data": {
      "text/plain": [
       "True"
      ]
     },
     "execution_count": 6,
     "metadata": {},
     "output_type": "execute_result"
    }
   ],
   "source": [
    "3<8"
   ]
  },
  {
   "cell_type": "code",
   "execution_count": 7,
   "id": "965c6d04-8722-4b38-aa4f-c23f8331782a",
   "metadata": {},
   "outputs": [
    {
     "data": {
      "text/plain": [
       "False"
      ]
     },
     "execution_count": 7,
     "metadata": {},
     "output_type": "execute_result"
    }
   ],
   "source": [
    "10<5"
   ]
  },
  {
   "cell_type": "code",
   "execution_count": 8,
   "id": "6498c5fe-8e0b-440e-abf8-68f9723246f9",
   "metadata": {},
   "outputs": [
    {
     "data": {
      "text/plain": [
       "True"
      ]
     },
     "execution_count": 8,
     "metadata": {},
     "output_type": "execute_result"
    }
   ],
   "source": [
    "22>=11"
   ]
  },
  {
   "cell_type": "code",
   "execution_count": 9,
   "id": "c5149863-a102-4f45-b6df-b95caeac7990",
   "metadata": {},
   "outputs": [
    {
     "data": {
      "text/plain": [
       "False"
      ]
     },
     "execution_count": 9,
     "metadata": {},
     "output_type": "execute_result"
    }
   ],
   "source": [
    "54>=100"
   ]
  },
  {
   "cell_type": "code",
   "execution_count": 10,
   "id": "d44f65a0-eb6e-4b04-baa9-c2995c8c83d0",
   "metadata": {},
   "outputs": [
    {
     "data": {
      "text/plain": [
       "False"
      ]
     },
     "execution_count": 10,
     "metadata": {},
     "output_type": "execute_result"
    }
   ],
   "source": [
    "90<=12"
   ]
  },
  {
   "cell_type": "code",
   "execution_count": 11,
   "id": "dc7e556a-4e30-4a9a-9fde-f70825a72eaf",
   "metadata": {},
   "outputs": [
    {
     "data": {
      "text/plain": [
       "True"
      ]
     },
     "execution_count": 11,
     "metadata": {},
     "output_type": "execute_result"
    }
   ],
   "source": [
    "30<=45"
   ]
  },
  {
   "cell_type": "code",
   "execution_count": null,
   "id": "c60eafa5-b28e-45f9-88d3-ff7a26c80aa5",
   "metadata": {},
   "outputs": [],
   "source": []
  }
 ],
 "metadata": {
  "kernelspec": {
   "display_name": "Python 3 (ipykernel)",
   "language": "python",
   "name": "python3"
  },
  "language_info": {
   "codemirror_mode": {
    "name": "ipython",
    "version": 3
   },
   "file_extension": ".py",
   "mimetype": "text/x-python",
   "name": "python",
   "nbconvert_exporter": "python",
   "pygments_lexer": "ipython3",
   "version": "3.12.7"
  }
 },
 "nbformat": 4,
 "nbformat_minor": 5
}
