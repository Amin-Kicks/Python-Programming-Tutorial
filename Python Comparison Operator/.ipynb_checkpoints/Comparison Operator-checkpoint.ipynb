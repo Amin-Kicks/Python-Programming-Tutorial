{
 "cells": [
  {
   "cell_type": "markdown",
   "id": "b13d3fad-2c74-4445-a5a1-bd44cdb531c8",
   "metadata": {},
   "source": [
    "## Test your knowledge.\n",
    "Answer the following questions\n",
    "Write a brief description of all the following Object Types and Data Structures we've\n",
    "learned about. You can edit the cell below by double clicking on it. Really this is just\n",
    "to test if you know the difference between these.\n",
    "Double Click HERE to edit this markdown cell and write answers."
   ]
  },
  {
   "cell_type": "code",
   "execution_count": null,
   "id": "5e1930d4-af44-4a89-94a8-cb254d4b8968",
   "metadata": {},
   "outputs": [],
   "source": [
    "Numbers:They are set of integers,float\n",
    "Strings:\n",
    "Lists:They are unordered sequences of integers enclosed in square brackets\n",
    "Tuples:They are immutable sequences enclosed in parenthesis \n",
    "Dictionaries: They are ordered sequences with keys and values enclosed in curly brackets."
   ]
  },
  {
   "cell_type": "markdown",
   "id": "96b727db-a1cf-432d-9d28-7a1ff32b4ff5",
   "metadata": {},
   "source": [
    "## Numbers\n"
   ]
  },
  {
   "cell_type": "code",
   "execution_count": 10,
   "id": "1fbe0b79-8b1e-4f10-8fba-893c8937386b",
   "metadata": {},
   "outputs": [
    {
     "data": {
      "text/plain": [
       "100.25"
      ]
     },
     "execution_count": 10,
     "metadata": {},
     "output_type": "execute_result"
    }
   ],
   "source": [
    "# Write an equation that uses multiplication, division, an exponent, addition, and subtraction that is equal to 100.25.\n",
    "# Hint: This is just to test your memory of the basic arithmetic commands, work backwards from 100.25\n",
    "(2**2)*(60/2-5)+0.25"
   ]
  },
  {
   "cell_type": "code",
   "execution_count": null,
   "id": "7c0b3979-01c7-4f93-88ab-2786b07a3c57",
   "metadata": {},
   "outputs": [],
   "source": [
    "# Answer these 3 questions without typing code. Then type code to check your answer.\n",
    "What is the value of the expression 4 * (6 + 5) = 44\n",
    "What is the value of the expression 4 * 6 + 5 = 29\n",
    "What is the value of the expression 4 + 6 * 5 = 34"
   ]
  },
  {
   "cell_type": "code",
   "execution_count": 1,
   "id": "1cc32f5b-7578-4df9-bc79-09393a7e50ea",
   "metadata": {},
   "outputs": [
    {
     "data": {
      "text/plain": [
       "44"
      ]
     },
     "execution_count": 1,
     "metadata": {},
     "output_type": "execute_result"
    }
   ],
   "source": [
    "4 * (6 + 5)"
   ]
  },
  {
   "cell_type": "code",
   "execution_count": 2,
   "id": "2e9e3e34-b16a-476b-8ee3-dccf3382cc34",
   "metadata": {},
   "outputs": [
    {
     "data": {
      "text/plain": [
       "29"
      ]
     },
     "execution_count": 2,
     "metadata": {},
     "output_type": "execute_result"
    }
   ],
   "source": [
    "4 * 6 + 5"
   ]
  },
  {
   "cell_type": "code",
   "execution_count": 3,
   "id": "9d9ab364-633f-4046-8eb4-faed92a3cbee",
   "metadata": {},
   "outputs": [
    {
     "data": {
      "text/plain": [
       "34"
      ]
     },
     "execution_count": 3,
     "metadata": {},
     "output_type": "execute_result"
    }
   ],
   "source": [
    "4 + 6 * 5"
   ]
  },
  {
   "cell_type": "code",
   "execution_count": null,
   "id": "42b20f9e-8462-4575-b4b9-3c76c84e972b",
   "metadata": {},
   "outputs": [],
   "source": []
  },
  {
   "cell_type": "code",
   "execution_count": null,
   "id": "86d85387-6fb4-4ed4-85b4-bd092f624cf9",
   "metadata": {},
   "outputs": [],
   "source": [
    "# What is the type of the result of the expression 3 + 1.5 + 4?\n",
    "Float"
   ]
  },
  {
   "cell_type": "code",
   "execution_count": 7,
   "id": "08a45579-38d3-4fb6-b992-049c7b2f7cf9",
   "metadata": {},
   "outputs": [
    {
     "ename": "TypeError",
     "evalue": "unsupported operand type(s) for ^: 'int' and 'float'",
     "output_type": "error",
     "traceback": [
      "\u001b[1;31m---------------------------------------------------------------------------\u001b[0m",
      "\u001b[1;31mTypeError\u001b[0m                                 Traceback (most recent call last)",
      "Cell \u001b[1;32mIn[7], line 3\u001b[0m\n\u001b[0;32m      1\u001b[0m \u001b[38;5;66;03m# What would you use to find a number’s square root, as well as its square?\u001b[39;00m\n\u001b[0;32m      2\u001b[0m \u001b[38;5;66;03m#Two asterisks(**) are used for square roots while (^2) is use for square roots\u001b[39;00m\n\u001b[1;32m----> 3\u001b[0m \u001b[38;5;241m36\u001b[39m\u001b[38;5;241m^\u001b[39m\u001b[38;5;241m1\u001b[39m\u001b[38;5;241m/\u001b[39m\u001b[38;5;241m2\u001b[39m\n",
      "\u001b[1;31mTypeError\u001b[0m: unsupported operand type(s) for ^: 'int' and 'float'"
     ]
    }
   ],
   "source": [
    "# What would you use to find a number’s square root, as well as its square?\n",
    "#Two asterisks(**) are used for square roots while"
   ]
  },
  {
   "cell_type": "markdown",
   "id": "443b38fd-4a66-40e7-8627-8cd8dc0a708d",
   "metadata": {},
   "source": [
    "## Strings\n",
    "Given the string 'hello' give an index command that returns 'e'. Enter your code in the cell below:\n"
   ]
  },
  {
   "cell_type": "code",
   "execution_count": 11,
   "id": "2fc1d247-ecac-43de-838f-58bb6498fc33",
   "metadata": {},
   "outputs": [],
   "source": [
    "# Print out 'e' using indexing\n",
    "s = 'hello'"
   ]
  },
  {
   "cell_type": "code",
   "execution_count": 12,
   "id": "f79e09b1-771f-401a-bcb1-040f9ed3764b",
   "metadata": {},
   "outputs": [
    {
     "data": {
      "text/plain": [
       "'e'"
      ]
     },
     "execution_count": 12,
     "metadata": {},
     "output_type": "execute_result"
    }
   ],
   "source": [
    "s[1]"
   ]
  },
  {
   "cell_type": "code",
   "execution_count": null,
   "id": "99cf2c30-22fb-41e4-a0ac-72e6f8910b49",
   "metadata": {},
   "outputs": [],
   "source": [
    "s ='hello'\n",
    "# Reverse the string using slicing"
   ]
  }
 ],
 "metadata": {
  "kernelspec": {
   "display_name": "Python 3 (ipykernel)",
   "language": "python",
   "name": "python3"
  },
  "language_info": {
   "codemirror_mode": {
    "name": "ipython",
    "version": 3
   },
   "file_extension": ".py",
   "mimetype": "text/x-python",
   "name": "python",
   "nbconvert_exporter": "python",
   "pygments_lexer": "ipython3",
   "version": "3.12.7"
  }
 },
 "nbformat": 4,
 "nbformat_minor": 5
}
