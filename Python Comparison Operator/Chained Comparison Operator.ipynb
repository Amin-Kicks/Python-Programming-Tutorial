{
 "cells": [
  {
   "cell_type": "markdown",
   "id": "19335028-de0c-4f0c-8f88-9cd5f8eee2e2",
   "metadata": {},
   "source": [
    "## It is an ability to chain multiple comparison to perform more complex test.It can be used as shorthand or larger boolean expression.It involve the use of the AND and OR operator logic Gate."
   ]
  },
  {
   "cell_type": "code",
   "execution_count": 1,
   "id": "b30cf5b2-ae67-487b-8946-7b39d63959a1",
   "metadata": {},
   "outputs": [
    {
     "data": {
      "text/plain": [
       "True"
      ]
     },
     "execution_count": 1,
     "metadata": {},
     "output_type": "execute_result"
    }
   ],
   "source": [
    "1<2<3"
   ]
  },
  {
   "cell_type": "code",
   "execution_count": 2,
   "id": "e31e7fc1-5415-4cfe-bce8-1fb344dfe7e6",
   "metadata": {},
   "outputs": [
    {
     "data": {
      "text/plain": [
       "True"
      ]
     },
     "execution_count": 2,
     "metadata": {},
     "output_type": "execute_result"
    }
   ],
   "source": [
    "1<2 and 2<3\n",
    "\n",
    "#1<2=true\n",
    "#2<3=true\n",
    "#true and true=true"
   ]
  },
  {
   "cell_type": "code",
   "execution_count": 3,
   "id": "01eb2da1-9401-4fa8-8410-5f0e0271f59e",
   "metadata": {},
   "outputs": [
    {
     "data": {
      "text/plain": [
       "True"
      ]
     },
     "execution_count": 3,
     "metadata": {},
     "output_type": "execute_result"
    }
   ],
   "source": [
    "2<3 and 2>1"
   ]
  },
  {
   "cell_type": "code",
   "execution_count": 4,
   "id": "0f4f378b-3615-466a-9cf2-4840c3674999",
   "metadata": {},
   "outputs": [
    {
     "data": {
      "text/plain": [
       "False"
      ]
     },
     "execution_count": 4,
     "metadata": {},
     "output_type": "execute_result"
    }
   ],
   "source": [
    "2>3 and 2>1\n",
    "\n",
    "#2>3=false\n",
    "#2>1=true\n",
    "#false and true=false"
   ]
  },
  {
   "cell_type": "code",
   "execution_count": 5,
   "id": "893280fe-d8db-43f6-94fe-4e3cd21a846a",
   "metadata": {},
   "outputs": [
    {
     "data": {
      "text/plain": [
       "True"
      ]
     },
     "execution_count": 5,
     "metadata": {},
     "output_type": "execute_result"
    }
   ],
   "source": [
    "2>3 or 2>1\n",
    "\n",
    "#2>3=false\n",
    "#2>1=true\n",
    "#false or true=false"
   ]
  },
  {
   "cell_type": "code",
   "execution_count": 6,
   "id": "298856eb-b99b-4722-a558-670657982eb6",
   "metadata": {},
   "outputs": [
    {
     "data": {
      "text/plain": [
       "True"
      ]
     },
     "execution_count": 6,
     "metadata": {},
     "output_type": "execute_result"
    }
   ],
   "source": [
    "1==2 or 2<3\n",
    "\n",
    "\n",
    "#1==3=false\n",
    "#2<3=true\n",
    "#false or true=false"
   ]
  },
  {
   "cell_type": "code",
   "execution_count": 7,
   "id": "64756b43-2d76-4dfc-bad4-2cd7e8b75637",
   "metadata": {},
   "outputs": [
    {
     "data": {
      "text/plain": [
       "True"
      ]
     },
     "execution_count": 7,
     "metadata": {},
     "output_type": "execute_result"
    }
   ],
   "source": [
    "1==1 or 100==1"
   ]
  },
  {
   "cell_type": "code",
   "execution_count": 10,
   "id": "a78d8970-23dd-4e55-9270-5964398bf32c",
   "metadata": {
    "scrolled": true
   },
   "outputs": [
    {
     "data": {
      "text/plain": [
       "False"
      ]
     },
     "execution_count": 10,
     "metadata": {},
     "output_type": "execute_result"
    }
   ],
   "source": [
    "#Writing a code if a user is qualified to get admitted into the university\n",
    "\n",
    "user_age=20\n",
    "\n",
    "#To check if thhe user age is less than 16\n",
    "\n",
    "user_age<16"
   ]
  },
  {
   "cell_type": "code",
   "execution_count": 11,
   "id": "100e748b-29a5-474f-a0d0-0b15fe368cb6",
   "metadata": {},
   "outputs": [
    {
     "name": "stdout",
     "output_type": "stream",
     "text": [
      " Congrats! You can be admitted into our university\n"
     ]
    }
   ],
   "source": [
    "if user_age<16:\n",
    "    print(\"Sorry,you cant be admitted\")\n",
    "else:\n",
    "    print(\" Congrats! You can be admitted into our university\")"
   ]
  },
  {
   "cell_type": "code",
   "execution_count": 12,
   "id": "6296ae43-8edb-41ae-b3f1-0b14f8611d8a",
   "metadata": {},
   "outputs": [
    {
     "name": "stdin",
     "output_type": "stream",
     "text": [
      "Enter your age: 18\n"
     ]
    },
    {
     "name": "stdout",
     "output_type": "stream",
     "text": [
      "Your age is 18\n"
     ]
    }
   ],
   "source": [
    "user_age=input(\"Enter your age:\")\n",
    "print(f\"Your age is {user_age}\")"
   ]
  },
  {
   "cell_type": "code",
   "execution_count": 13,
   "id": "11cd64c1-3630-4205-8da2-48c37b8fe89b",
   "metadata": {},
   "outputs": [
    {
     "data": {
      "text/plain": [
       "str"
      ]
     },
     "execution_count": 13,
     "metadata": {},
     "output_type": "execute_result"
    }
   ],
   "source": [
    "type(user_age)"
   ]
  },
  {
   "cell_type": "code",
   "execution_count": 14,
   "id": "cbf40cf6-468a-48dd-aee6-e490eef8223e",
   "metadata": {},
   "outputs": [
    {
     "name": "stdin",
     "output_type": "stream",
     "text": [
      "Enter your age: 12\n"
     ]
    },
    {
     "name": "stdout",
     "output_type": "stream",
     "text": [
      "Your age is 12\n"
     ]
    }
   ],
   "source": [
    "user_age=int(input(\"Enter your age:\"))\n",
    "print(f\"Your age is {user_age}\")"
   ]
  },
  {
   "cell_type": "code",
   "execution_count": 15,
   "id": "a191e5b9-8c78-4178-b408-9838ca8982aa",
   "metadata": {},
   "outputs": [
    {
     "data": {
      "text/plain": [
       "int"
      ]
     },
     "execution_count": 15,
     "metadata": {},
     "output_type": "execute_result"
    }
   ],
   "source": [
    "type(user_age)"
   ]
  },
  {
   "cell_type": "code",
   "execution_count": 19,
   "id": "91522573-9938-4ac6-ae19-fc7390453461",
   "metadata": {},
   "outputs": [
    {
     "name": "stdin",
     "output_type": "stream",
     "text": [
      "Enter your age: 25\n"
     ]
    },
    {
     "name": "stdout",
     "output_type": "stream",
     "text": [
      "Your age is 25\n",
      "Congrats! You can be admitted into our university\n"
     ]
    }
   ],
   "source": [
    "user_age=int(input(\"Enter your age:\"))\n",
    "print(f\"Your age is {user_age}\")\n",
    "\n",
    "if user_age<16:\n",
    "    print(f\"Sorry,you cant be admitted because you are {user_age} and it's less than 16\")\n",
    "else:\n",
    "    print(\"Congrats! You can be admitted into our university\")"
   ]
  },
  {
   "cell_type": "code",
   "execution_count": 20,
   "id": "884986bf-6cee-4b8b-a5ad-23139b399d13",
   "metadata": {},
   "outputs": [
    {
     "name": "stdin",
     "output_type": "stream",
     "text": [
      "Enter your age: 15\n"
     ]
    },
    {
     "name": "stdout",
     "output_type": "stream",
     "text": [
      "Your age is 15\n",
      "Sorry,you cant be admitted because you are 15 and it's less than 16\n"
     ]
    }
   ],
   "source": [
    "user_age=int(input(\"Enter your age:\"))\n",
    "print(f\"Your age is {user_age}\")\n",
    "\n",
    "if user_age<16:\n",
    "    print(f\"Sorry,you cant be admitted because you are {user_age} and it's less than 16\")\n",
    "else:\n",
    "    print(\"Congrats! You can be admitted into our university\")"
   ]
  },
  {
   "cell_type": "code",
   "execution_count": null,
   "id": "b0b0ec4d-3ffd-46d6-a9f2-f6a8209b62ff",
   "metadata": {},
   "outputs": [],
   "source": []
  }
 ],
 "metadata": {
  "kernelspec": {
   "display_name": "Python 3 (ipykernel)",
   "language": "python",
   "name": "python3"
  },
  "language_info": {
   "codemirror_mode": {
    "name": "ipython",
    "version": 3
   },
   "file_extension": ".py",
   "mimetype": "text/x-python",
   "name": "python",
   "nbconvert_exporter": "python",
   "pygments_lexer": "ipython3",
   "version": "3.12.7"
  }
 },
 "nbformat": 4,
 "nbformat_minor": 5
}
