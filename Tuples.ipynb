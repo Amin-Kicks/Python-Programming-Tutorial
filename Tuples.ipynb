{
 "cells": [
  {
   "cell_type": "code",
   "execution_count": 15,
   "id": "6a2a8492-935e-4dbd-a64f-7e7e99b90fe5",
   "metadata": {},
   "outputs": [],
   "source": [
    "#They are alike to list but are immutable(can't be modified). They are used to present what can't be changed e.g days of the week, calendars etc."
   ]
  },
  {
   "cell_type": "code",
   "execution_count": 16,
   "id": "8bcb882e-bcfb-4777-a303-620c0d303de0",
   "metadata": {},
   "outputs": [],
   "source": [
    "t=(1,4,3,6)"
   ]
  },
  {
   "cell_type": "code",
   "execution_count": 3,
   "id": "0f9cf651-e032-4021-b2f8-d9cb06b7908e",
   "metadata": {},
   "outputs": [
    {
     "data": {
      "text/plain": [
       "4"
      ]
     },
     "execution_count": 3,
     "metadata": {},
     "output_type": "execute_result"
    }
   ],
   "source": [
    "len(t)"
   ]
  },
  {
   "cell_type": "code",
   "execution_count": 4,
   "id": "93f6359b-c5a5-418a-a39a-ad1ac7b2411c",
   "metadata": {},
   "outputs": [],
   "source": [
    "t=(\"one\",6)"
   ]
  },
  {
   "cell_type": "code",
   "execution_count": 5,
   "id": "a8d514ab-61cc-4ac8-bd8e-3bd301d839d8",
   "metadata": {},
   "outputs": [
    {
     "data": {
      "text/plain": [
       "('one', 6)"
      ]
     },
     "execution_count": 5,
     "metadata": {},
     "output_type": "execute_result"
    }
   ],
   "source": [
    "t"
   ]
  },
  {
   "cell_type": "code",
   "execution_count": 7,
   "id": "9598a791-a405-4780-b6e7-1846a1371606",
   "metadata": {},
   "outputs": [
    {
     "data": {
      "text/plain": [
       "'one'"
      ]
     },
     "execution_count": 7,
     "metadata": {},
     "output_type": "execute_result"
    }
   ],
   "source": [
    "t[0]"
   ]
  },
  {
   "cell_type": "code",
   "execution_count": 8,
   "id": "2c13e7ba-a4c8-4851-9dfc-8785b28aeefb",
   "metadata": {},
   "outputs": [
    {
     "data": {
      "text/plain": [
       "6"
      ]
     },
     "execution_count": 8,
     "metadata": {},
     "output_type": "execute_result"
    }
   ],
   "source": [
    "t[-1]"
   ]
  },
  {
   "cell_type": "markdown",
   "id": "e63b0ef9-d223-4675-9813-2e7b4de87b89",
   "metadata": {},
   "source": [
    "#### TUPLES METHOD"
   ]
  },
  {
   "cell_type": "code",
   "execution_count": 9,
   "id": "cffb84e2-1ace-4dc6-8acd-47aa51462e7f",
   "metadata": {},
   "outputs": [],
   "source": [
    "t=(1,4,3,6)"
   ]
  },
  {
   "cell_type": "code",
   "execution_count": 11,
   "id": "12e362cd-6075-4e6e-ada1-da3dddc339d8",
   "metadata": {},
   "outputs": [
    {
     "data": {
      "text/plain": [
       "(1, 4, 3, 6)"
      ]
     },
     "execution_count": 11,
     "metadata": {},
     "output_type": "execute_result"
    }
   ],
   "source": [
    "t"
   ]
  },
  {
   "cell_type": "code",
   "execution_count": 12,
   "id": "3c09101b-4a52-4274-a2c6-2e09b1c47b07",
   "metadata": {},
   "outputs": [
    {
     "data": {
      "text/plain": [
       "2"
      ]
     },
     "execution_count": 12,
     "metadata": {},
     "output_type": "execute_result"
    }
   ],
   "source": [
    "t.index(3)"
   ]
  },
  {
   "cell_type": "code",
   "execution_count": 13,
   "id": "318591a4-30ca-4115-b443-318c57cadc71",
   "metadata": {},
   "outputs": [
    {
     "data": {
      "text/plain": [
       "1"
      ]
     },
     "execution_count": 13,
     "metadata": {},
     "output_type": "execute_result"
    }
   ],
   "source": [
    "t.count(6)"
   ]
  },
  {
   "cell_type": "code",
   "execution_count": 14,
   "id": "d421ba28-688d-49c8-af44-45c0869cac88",
   "metadata": {},
   "outputs": [
    {
     "ename": "TypeError",
     "evalue": "'tuple' object does not support item assignment",
     "output_type": "error",
     "traceback": [
      "\u001b[1;31m---------------------------------------------------------------------------\u001b[0m",
      "\u001b[1;31mTypeError\u001b[0m                                 Traceback (most recent call last)",
      "Cell \u001b[1;32mIn[14], line 1\u001b[0m\n\u001b[1;32m----> 1\u001b[0m t[\u001b[38;5;241m1\u001b[39m]\u001b[38;5;241m=\u001b[39m\u001b[38;5;124m\"\u001b[39m\u001b[38;5;124mApple\u001b[39m\u001b[38;5;124m\"\u001b[39m\n",
      "\u001b[1;31mTypeError\u001b[0m: 'tuple' object does not support item assignment"
     ]
    }
   ],
   "source": [
    "t[1]=\"Apple\""
   ]
  },
  {
   "cell_type": "code",
   "execution_count": null,
   "id": "ce0ba0b7-a131-4d90-af9d-d6646e0eb433",
   "metadata": {},
   "outputs": [],
   "source": []
  }
 ],
 "metadata": {
  "kernelspec": {
   "display_name": "Python 3 (ipykernel)",
   "language": "python",
   "name": "python3"
  },
  "language_info": {
   "codemirror_mode": {
    "name": "ipython",
    "version": 3
   },
   "file_extension": ".py",
   "mimetype": "text/x-python",
   "name": "python",
   "nbconvert_exporter": "python",
   "pygments_lexer": "ipython3",
   "version": "3.12.7"
  }
 },
 "nbformat": 4,
 "nbformat_minor": 5
}
