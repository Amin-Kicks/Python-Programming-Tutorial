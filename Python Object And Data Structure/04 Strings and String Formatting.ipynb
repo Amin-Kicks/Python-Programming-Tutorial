{
 "cells": [
  {
   "cell_type": "markdown",
   "id": "b7379dec-45ca-4991-8792-2f616e3422c5",
   "metadata": {},
   "source": [
    "### TYPES: \n",
    "       1.Indexing\n",
    "       2. Slicing"
   ]
  },
  {
   "cell_type": "code",
   "execution_count": null,
   "id": "dc8be764-fea4-4035-9ff4-9d1077cd28a6",
   "metadata": {},
   "outputs": [],
   "source": [
    "1. Indexing: Use of square brackets[] notation after the string or variable assigned to the string to grab a single character fron the string with the use \n",
    "of numbers.Indexing starts from 0,1,2,...,n where zero indicates the first character.\n",
    "-----Reversed Index e.g -1,-2,-3,...,-n where -1 indicates the last character\n",
    "2. Slicing: Allows to grab sub-sections of multiple character i.e a slice of the string.The syntax used is [start:stop:step], where 'start' is a numerical \n",
    "index for the slice start,'stop' is the index you will go up to but not include,'step' is the size of the jump you take"
   ]
  },
  {
   "cell_type": "code",
   "execution_count": 1,
   "id": "b6f82289-519c-48e0-853d-73770f268893",
   "metadata": {},
   "outputs": [
    {
     "data": {
      "text/plain": [
       "'hello'"
      ]
     },
     "execution_count": 1,
     "metadata": {},
     "output_type": "execute_result"
    }
   ],
   "source": [
    "'hello'"
   ]
  },
  {
   "cell_type": "code",
   "execution_count": 2,
   "id": "8947f41c-2098-4578-b574-2ebd26ea009d",
   "metadata": {},
   "outputs": [
    {
     "data": {
      "text/plain": [
       "'hello'"
      ]
     },
     "execution_count": 2,
     "metadata": {},
     "output_type": "execute_result"
    }
   ],
   "source": [
    "\"hello\""
   ]
  },
  {
   "cell_type": "code",
   "execution_count": 5,
   "id": "7c7961b9-70e1-434e-a7c8-c8326c77975b",
   "metadata": {},
   "outputs": [
    {
     "data": {
      "text/plain": [
       "'This is a string'"
      ]
     },
     "execution_count": 5,
     "metadata": {},
     "output_type": "execute_result"
    }
   ],
   "source": [
    "'This is a string'"
   ]
  },
  {
   "cell_type": "code",
   "execution_count": 6,
   "id": "261f64d4-e509-4ba7-b67f-85d639f1fb3a",
   "metadata": {},
   "outputs": [
    {
     "data": {
      "text/plain": [
       "'This is also a string which is better to use than single quote to avoide errors'"
      ]
     },
     "execution_count": 6,
     "metadata": {},
     "output_type": "execute_result"
    }
   ],
   "source": [
    "\"This is also a string which is better to use than single quote to avoide errors\""
   ]
  },
  {
   "cell_type": "code",
   "execution_count": 7,
   "id": "5af366f0-31dc-4a0d-9489-a4f5f080da39",
   "metadata": {},
   "outputs": [
    {
     "data": {
      "text/plain": [
       "'Salaam Alaykum Abdullateef'"
      ]
     },
     "execution_count": 7,
     "metadata": {},
     "output_type": "execute_result"
    }
   ],
   "source": [
    "\"Salaam Alaykum Abdullateef\""
   ]
  },
  {
   "cell_type": "code",
   "execution_count": 8,
   "id": "c38d4108-ed23-4a51-91ca-7687481a91ed",
   "metadata": {},
   "outputs": [
    {
     "data": {
      "text/plain": [
       "'Salaam Alaykum Abdurrahmon'"
      ]
     },
     "execution_count": 8,
     "metadata": {},
     "output_type": "execute_result"
    }
   ],
   "source": [
    "\"Salaam Alaykum Abdullateef\"\n",
    "\"Salaam Alaykum Abdurrahmon\""
   ]
  },
  {
   "cell_type": "code",
   "execution_count": null,
   "id": "f3f0283c-7442-4692-8435-51fcff8a1585",
   "metadata": {},
   "outputs": [],
   "source": [
    "## PRINT STATEMENT"
   ]
  },
  {
   "cell_type": "code",
   "execution_count": 12,
   "id": "47b056db-7224-4c6f-87c7-68dcbbb111d4",
   "metadata": {},
   "outputs": [
    {
     "name": "stdout",
     "output_type": "stream",
     "text": [
      "Salaam Alaykum Abdullateef Salaam Alaykum Abdurrahmon\n"
     ]
    }
   ],
   "source": [
    "print(\"Salaam Alaykum Abdullateef\",\"Salaam Alaykum Abdurrahmon\")"
   ]
  },
  {
   "cell_type": "code",
   "execution_count": 13,
   "id": "150cbf83-2035-4abc-9294-a8cabc6523c5",
   "metadata": {},
   "outputs": [
    {
     "name": "stdout",
     "output_type": "stream",
     "text": [
      "Salaam Alaykum Abdullateef\n",
      "Salaam Alaykum Abdurrahmon\n"
     ]
    }
   ],
   "source": [
    "print(\"Salaam Alaykum Abdullateef\")\n",
    "print(\"Salaam Alaykum Abdurrahmon\")"
   ]
  },
  {
   "cell_type": "code",
   "execution_count": 14,
   "id": "2d84eb9a-657c-415f-aaf1-4dc8256fe7a0",
   "metadata": {},
   "outputs": [
    {
     "name": "stdout",
     "output_type": "stream",
     "text": [
      "Salaam Alaykum Abdullateef\n",
      "Salaam Alaykum Abdurrahmon\n",
      "Use \n",
      " to create a new line\n"
     ]
    }
   ],
   "source": [
    "print(\"Salaam Alaykum Abdullateef\")\n",
    "print(\"Salaam Alaykum Abdurrahmon\")\n",
    "print(\"Use \\n to create a new line\")"
   ]
  },
  {
   "cell_type": "code",
   "execution_count": 21,
   "id": "7dfa6cea-2e8d-46b7-b10b-d6147122ae71",
   "metadata": {},
   "outputs": [
    {
     "name": "stdout",
     "output_type": "stream",
     "text": [
      "Salaam Alaykum Abdullateef\n",
      "Salaam Alaykum Abdurrahmon\n"
     ]
    }
   ],
   "source": [
    "print(\"Salaam Alaykum Abdullateef\\nSalaam Alaykum Abdurrahmon\")"
   ]
  },
  {
   "cell_type": "code",
   "execution_count": 22,
   "id": "b8dfa963-5aad-459b-8679-531e7c992ccc",
   "metadata": {},
   "outputs": [
    {
     "name": "stdout",
     "output_type": "stream",
     "text": [
      "Salaam Alaykum Abdullateef\n",
      "Salaam Alaykum Abdurrahmon\n",
      "\n",
      "\n",
      "Salaam Alaykum Ridwanullah\n"
     ]
    }
   ],
   "source": [
    "print(\"Salaam Alaykum Abdullateef\")\n",
    "print(\"Salaam Alaykum Abdurrahmon\")\n",
    "print(\"\\n\")\n",
    "print(\"Salaam Alaykum Ridwanullah\")"
   ]
  },
  {
   "cell_type": "code",
   "execution_count": 25,
   "id": "9b819260-bcf6-43ab-93d6-ebb676668602",
   "metadata": {},
   "outputs": [
    {
     "data": {
      "text/plain": [
       "14"
      ]
     },
     "execution_count": 25,
     "metadata": {},
     "output_type": "execute_result"
    }
   ],
   "source": [
    "#To Check Length,note that a space counts as a character\n",
    "len(\"Salaam Alaykum\")"
   ]
  },
  {
   "cell_type": "code",
   "execution_count": 35,
   "id": "190610f5-6ce2-4477-8f55-74cdb584badb",
   "metadata": {},
   "outputs": [
    {
     "data": {
      "text/plain": [
       "'pyt hon'"
      ]
     },
     "execution_count": 35,
     "metadata": {},
     "output_type": "execute_result"
    }
   ],
   "source": [
    "p=\"pyt hon\"\n",
    "p "
   ]
  },
  {
   "cell_type": "code",
   "execution_count": 36,
   "id": "06b2f9b5-9487-4fdf-b8a1-93b2e9d62e49",
   "metadata": {},
   "outputs": [
    {
     "name": "stdout",
     "output_type": "stream",
     "text": [
      "pyt hon\n"
     ]
    }
   ],
   "source": [
    "print(p)"
   ]
  },
  {
   "cell_type": "code",
   "execution_count": 37,
   "id": "9c2f0028-52ff-4a04-8430-86f02c2712fb",
   "metadata": {},
   "outputs": [
    {
     "data": {
      "text/plain": [
       "'p'"
      ]
     },
     "execution_count": 37,
     "metadata": {},
     "output_type": "execute_result"
    }
   ],
   "source": [
    "p[0]"
   ]
  },
  {
   "cell_type": "code",
   "execution_count": 38,
   "id": "8d75de2c-7090-4014-be7c-f4c81689ccfa",
   "metadata": {},
   "outputs": [
    {
     "data": {
      "text/plain": [
       "'o'"
      ]
     },
     "execution_count": 38,
     "metadata": {},
     "output_type": "execute_result"
    }
   ],
   "source": [
    "p[5]"
   ]
  },
  {
   "cell_type": "code",
   "execution_count": 39,
   "id": "7ff62041-f93a-4db3-b668-9db3953d64eb",
   "metadata": {},
   "outputs": [
    {
     "data": {
      "text/plain": [
       "'h'"
      ]
     },
     "execution_count": 39,
     "metadata": {},
     "output_type": "execute_result"
    }
   ],
   "source": [
    "p[-3]"
   ]
  },
  {
   "cell_type": "code",
   "execution_count": 40,
   "id": "4a6f9412-8789-4a46-b333-cd4fe96f2743",
   "metadata": {},
   "outputs": [
    {
     "data": {
      "text/plain": [
       "'yt hon'"
      ]
     },
     "execution_count": 40,
     "metadata": {},
     "output_type": "execute_result"
    }
   ],
   "source": [
    "p[1:]"
   ]
  },
  {
   "cell_type": "code",
   "execution_count": 42,
   "id": "0f4246ed-f7d1-44bc-a3ff-576b9c527dc5",
   "metadata": {},
   "outputs": [
    {
     "data": {
      "text/plain": [
       "'pyt '"
      ]
     },
     "execution_count": 42,
     "metadata": {},
     "output_type": "execute_result"
    }
   ],
   "source": [
    "p[:4]"
   ]
  },
  {
   "cell_type": "code",
   "execution_count": 41,
   "id": "880403c6-93b7-4d15-8d54-2de010ce343b",
   "metadata": {},
   "outputs": [
    {
     "data": {
      "text/plain": [
       "'pyt hon'"
      ]
     },
     "execution_count": 41,
     "metadata": {},
     "output_type": "execute_result"
    }
   ],
   "source": [
    "p[:]"
   ]
  },
  {
   "cell_type": "code",
   "execution_count": 43,
   "id": "f580a65f-1708-46db-9159-2681134df639",
   "metadata": {},
   "outputs": [
    {
     "data": {
      "text/plain": [
       "' '"
      ]
     },
     "execution_count": 43,
     "metadata": {},
     "output_type": "execute_result"
    }
   ],
   "source": [
    "p[3]"
   ]
  },
  {
   "cell_type": "code",
   "execution_count": 44,
   "id": "66f6fc6d-7000-4b27-bc97-ae9dfcd87a2d",
   "metadata": {},
   "outputs": [
    {
     "data": {
      "text/plain": [
       "'pyt ho'"
      ]
     },
     "execution_count": 44,
     "metadata": {},
     "output_type": "execute_result"
    }
   ],
   "source": [
    "p[:-1]"
   ]
  },
  {
   "cell_type": "code",
   "execution_count": 45,
   "id": "fa7a9f48-e14c-4b04-a2aa-83ca7766cf8c",
   "metadata": {},
   "outputs": [
    {
     "data": {
      "text/plain": [
       "'pyt h'"
      ]
     },
     "execution_count": 45,
     "metadata": {},
     "output_type": "execute_result"
    }
   ],
   "source": [
    "p[:-2]"
   ]
  },
  {
   "cell_type": "code",
   "execution_count": 46,
   "id": "f38fe829-1a70-4f45-a5a4-d073473e6ffe",
   "metadata": {},
   "outputs": [
    {
     "data": {
      "text/plain": [
       "'pyt hon'"
      ]
     },
     "execution_count": 46,
     "metadata": {},
     "output_type": "execute_result"
    }
   ],
   "source": [
    "p[::1]"
   ]
  },
  {
   "cell_type": "code",
   "execution_count": 47,
   "id": "cb6b53ad-31c1-43dd-96d5-ea9e8b7dd476",
   "metadata": {},
   "outputs": [
    {
     "data": {
      "text/plain": [
       "'pthn'"
      ]
     },
     "execution_count": 47,
     "metadata": {},
     "output_type": "execute_result"
    }
   ],
   "source": [
    "p[::2]"
   ]
  },
  {
   "cell_type": "code",
   "execution_count": 48,
   "id": "0a848015-6beb-4452-bafa-90de1a012a3f",
   "metadata": {},
   "outputs": [
    {
     "data": {
      "text/plain": [
       "'p n'"
      ]
     },
     "execution_count": 48,
     "metadata": {},
     "output_type": "execute_result"
    }
   ],
   "source": [
    "p[::3]"
   ]
  },
  {
   "cell_type": "code",
   "execution_count": 49,
   "id": "a1b4846b-ff68-4ef4-90a6-1e5f1a66cec5",
   "metadata": {},
   "outputs": [
    {
     "data": {
      "text/plain": [
       "'nhtp'"
      ]
     },
     "execution_count": 49,
     "metadata": {},
     "output_type": "execute_result"
    }
   ],
   "source": [
    "p[::-2]"
   ]
  },
  {
   "cell_type": "code",
   "execution_count": 6,
   "id": "beee5e42-fe6e-4bd9-8530-455683968a61",
   "metadata": {},
   "outputs": [
    {
     "data": {
      "text/plain": [
       "'pyt hon'"
      ]
     },
     "execution_count": 6,
     "metadata": {},
     "output_type": "execute_result"
    }
   ],
   "source": [
    "p=\"pyt hon\"\n",
    "p"
   ]
  },
  {
   "cell_type": "code",
   "execution_count": 7,
   "id": "830afce9-d9b4-4018-a8ca-7fc6016e9e30",
   "metadata": {},
   "outputs": [
    {
     "data": {
      "text/plain": [
       "'pyt hon'"
      ]
     },
     "execution_count": 7,
     "metadata": {},
     "output_type": "execute_result"
    }
   ],
   "source": [
    "p[::]"
   ]
  },
  {
   "cell_type": "code",
   "execution_count": 9,
   "id": "1495c55b-f999-4096-be69-9a4182ea5480",
   "metadata": {},
   "outputs": [
    {
     "ename": "TypeError",
     "evalue": "'str' object does not support item assignment",
     "output_type": "error",
     "traceback": [
      "\u001b[1;31m---------------------------------------------------------------------------\u001b[0m",
      "\u001b[1;31mTypeError\u001b[0m                                 Traceback (most recent call last)",
      "Cell \u001b[1;32mIn[9], line 1\u001b[0m\n\u001b[1;32m----> 1\u001b[0m p[\u001b[38;5;241m5\u001b[39m]\u001b[38;5;241m=\u001b[39m\u001b[38;5;124m\"\u001b[39m\u001b[38;5;124mr\u001b[39m\u001b[38;5;124m\"\u001b[39m\n\u001b[0;32m      2\u001b[0m p\n",
      "\u001b[1;31mTypeError\u001b[0m: 'str' object does not support item assignment"
     ]
    }
   ],
   "source": [
    "p[5]=\"r\"\n"
   ]
  },
  {
   "cell_type": "markdown",
   "id": "5a33f6f6-bba1-4886-a5ac-ef11087e559e",
   "metadata": {},
   "source": [
    "## CONCATENATION"
   ]
  },
  {
   "cell_type": "code",
   "execution_count": 10,
   "id": "618b91cb-a605-4995-8c41-f2f6a4927b0b",
   "metadata": {},
   "outputs": [
    {
     "data": {
      "text/plain": [
       "'pyt hon'"
      ]
     },
     "execution_count": 10,
     "metadata": {},
     "output_type": "execute_result"
    }
   ],
   "source": [
    "p"
   ]
  },
  {
   "cell_type": "code",
   "execution_count": 17,
   "id": "99051926-439e-4a6f-aa90-640712ee633c",
   "metadata": {},
   "outputs": [
    {
     "name": "stdout",
     "output_type": "stream",
     "text": [
      "pyt honconcatenate me!concatenate me!concatenate me! concatenate me! concatenate me! concatenate me!concatenate me\n"
     ]
    }
   ],
   "source": [
    "p=p+\"concatenate me\"\n",
    "print(p)"
   ]
  },
  {
   "cell_type": "code",
   "execution_count": 20,
   "id": "22c9db21-bb0d-4654-8a98-17603549d3b1",
   "metadata": {},
   "outputs": [
    {
     "data": {
      "text/plain": [
       "'Amin Kicks'"
      ]
     },
     "execution_count": 20,
     "metadata": {},
     "output_type": "execute_result"
    }
   ],
   "source": [
    "my_name=\"Amin Kicks\"\n",
    "my_name"
   ]
  },
  {
   "cell_type": "code",
   "execution_count": 21,
   "id": "f1d9ee23-da15-4a26-a30c-bf69dc36dbbb",
   "metadata": {},
   "outputs": [
    {
     "data": {
      "text/plain": [
       "'HelloAmin Kicks'"
      ]
     },
     "execution_count": 21,
     "metadata": {},
     "output_type": "execute_result"
    }
   ],
   "source": [
    "\"Hello\"+my_name"
   ]
  },
  {
   "cell_type": "code",
   "execution_count": 22,
   "id": "7cc17569-4dca-4ea5-9c97-ade059cce91a",
   "metadata": {},
   "outputs": [
    {
     "data": {
      "text/plain": [
       "'Salaam AlaykumAmin Kicks'"
      ]
     },
     "execution_count": 22,
     "metadata": {},
     "output_type": "execute_result"
    }
   ],
   "source": [
    "\"Salaam Alaykum\" + my_name"
   ]
  },
  {
   "cell_type": "code",
   "execution_count": 23,
   "id": "c9b9fe51-a429-42da-a932-907ea14a106f",
   "metadata": {},
   "outputs": [
    {
     "data": {
      "text/plain": [
       "'PYT HONCONCATENATE ME!CONCATENATE ME!CONCATENATE ME! CONCATENATE ME! CONCATENATE ME! CONCATENATE ME!CONCATENATE ME'"
      ]
     },
     "execution_count": 23,
     "metadata": {},
     "output_type": "execute_result"
    }
   ],
   "source": [
    "p.upper()"
   ]
  },
  {
   "cell_type": "code",
   "execution_count": 24,
   "id": "0d24da0f-77cc-47e5-83fb-61e19a9d7900",
   "metadata": {},
   "outputs": [
    {
     "data": {
      "text/plain": [
       "'pyt honconcatenate me!concatenate me!concatenate me! concatenate me! concatenate me! concatenate me!concatenate me'"
      ]
     },
     "execution_count": 24,
     "metadata": {},
     "output_type": "execute_result"
    }
   ],
   "source": [
    "p.lower()"
   ]
  },
  {
   "cell_type": "code",
   "execution_count": 25,
   "id": "047f2bc8-60a3-4bb1-bfdd-832d41c3c283",
   "metadata": {},
   "outputs": [
    {
     "data": {
      "text/plain": [
       "['pyt',\n",
       " 'honconcatenate',\n",
       " 'me!concatenate',\n",
       " 'me!concatenate',\n",
       " 'me!',\n",
       " 'concatenate',\n",
       " 'me!',\n",
       " 'concatenate',\n",
       " 'me!',\n",
       " 'concatenate',\n",
       " 'me!concatenate',\n",
       " 'me']"
      ]
     },
     "execution_count": 25,
     "metadata": {},
     "output_type": "execute_result"
    }
   ],
   "source": [
    "p.split()"
   ]
  },
  {
   "cell_type": "code",
   "execution_count": 26,
   "id": "3b8042ef-7baa-4579-a3ef-b0891652a7cb",
   "metadata": {},
   "outputs": [
    {
     "data": {
      "text/plain": [
       "['pyt ho',\n",
       " 'co',\n",
       " 'cate',\n",
       " 'ate me!co',\n",
       " 'cate',\n",
       " 'ate me!co',\n",
       " 'cate',\n",
       " 'ate me! co',\n",
       " 'cate',\n",
       " 'ate me! co',\n",
       " 'cate',\n",
       " 'ate me! co',\n",
       " 'cate',\n",
       " 'ate me!co',\n",
       " 'cate',\n",
       " 'ate me']"
      ]
     },
     "execution_count": 26,
     "metadata": {},
     "output_type": "execute_result"
    }
   ],
   "source": [
    "p.split(\"n\")"
   ]
  },
  {
   "cell_type": "markdown",
   "id": "85e0c45f-8718-411b-8038-169985d3e1fc",
   "metadata": {},
   "source": [
    "#### STRING FORMATTING/INTERPOLATION: Used to inject items "
   ]
  },
  {
   "cell_type": "markdown",
   "id": "4dd95f2a-6efd-4af6-9fb4-0e53aa3cb5d0",
   "metadata": {},
   "source": [
    "##### 1. .format method"
   ]
  },
  {
   "cell_type": "code",
   "execution_count": 29,
   "id": "d49be589-7404-4fd8-acd0-1380ba7d774e",
   "metadata": {},
   "outputs": [
    {
     "name": "stdout",
     "output_type": "stream",
     "text": [
      "This is a string with an insert\n"
     ]
    }
   ],
   "source": [
    "print(\"This is a string with an {}\".format(\"insert\"))"
   ]
  },
  {
   "cell_type": "code",
   "execution_count": 33,
   "id": "5c8d89f0-8a65-46c2-9c41-dbc7e504664f",
   "metadata": {},
   "outputs": [
    {
     "name": "stdout",
     "output_type": "stream",
     "text": [
      "First Object 1, Second Object: Three, Third Object45.9\n"
     ]
    }
   ],
   "source": [
    "print(\"First Object {a}, Second Object: {b}, Third Object{c}\".format(a=1, b=\"Three\", c=45.9))"
   ]
  },
  {
   "cell_type": "code",
   "execution_count": null,
   "id": "4755aede-7bca-4797-a01e-109206d5448c",
   "metadata": {},
   "outputs": [],
   "source": [
    "##### 2. Formatted String Literals (f-strings)"
   ]
  },
  {
   "cell_type": "code",
   "execution_count": 36,
   "id": "f0bdecc3-6710-4177-b891-9fb67822cfb2",
   "metadata": {},
   "outputs": [
    {
     "name": "stdout",
     "output_type": "stream",
     "text": [
      "He said his name is Al Amin.\n"
     ]
    }
   ],
   "source": [
    "name=\"Al Amin\"\n",
    "\n",
    "print(f\"He said his name is {name}.\")"
   ]
  },
  {
   "cell_type": "code",
   "execution_count": 39,
   "id": "ca92847f-f363-435b-8430-fa3b8b8a192d",
   "metadata": {},
   "outputs": [
    {
     "name": "stdout",
     "output_type": "stream",
     "text": [
      "100\n",
      "10.0\n"
     ]
    }
   ],
   "source": [
    "age=100\n",
    "cgpa=10.0\n",
    "\n",
    "print(age)\n",
    "print(cgpa)"
   ]
  },
  {
   "cell_type": "code",
   "execution_count": 41,
   "id": "6d8cd4b4-d238-4e29-b9bc-92eb42db021d",
   "metadata": {},
   "outputs": [
    {
     "name": "stdout",
     "output_type": "stream",
     "text": [
      "Al Amin is 100 years old and he has a gpa of 10.0\n"
     ]
    }
   ],
   "source": [
    "print(f\"{name} is {age} years old and he has a gpa of {cgpa}\")"
   ]
  },
  {
   "cell_type": "markdown",
   "id": "94a0bc1e-6821-40c4-843d-8b05977915c3",
   "metadata": {},
   "source": [
    "##### Concatenation Method"
   ]
  },
  {
   "cell_type": "code",
   "execution_count": 46,
   "id": "4f7513ac-f968-40bb-adff-0187122814c5",
   "metadata": {},
   "outputs": [
    {
     "name": "stdout",
     "output_type": "stream",
     "text": [
      "Al Amin is 100 years old and he has a gpa of 10.0\n"
     ]
    }
   ],
   "source": [
    "print(name + \" is \" + str(age) + \" years old and he has a gpa of \" + str(cgpa)) "
   ]
  },
  {
   "cell_type": "code",
   "execution_count": null,
   "id": "cc21c064-f907-49f0-bc38-0683aae00d10",
   "metadata": {},
   "outputs": [],
   "source": []
  }
 ],
 "metadata": {
  "kernelspec": {
   "display_name": "Python 3 (ipykernel)",
   "language": "python",
   "name": "python3"
  },
  "language_info": {
   "codemirror_mode": {
    "name": "ipython",
    "version": 3
   },
   "file_extension": ".py",
   "mimetype": "text/x-python",
   "name": "python",
   "nbconvert_exporter": "python",
   "pygments_lexer": "ipython3",
   "version": "3.12.7"
  }
 },
 "nbformat": 4,
 "nbformat_minor": 5
}
