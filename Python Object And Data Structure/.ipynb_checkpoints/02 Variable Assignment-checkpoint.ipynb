{
 "cells": [
  {
   "cell_type": "markdown",
   "id": "7c5b5dec-e547-42bc-8788-50c2abc22b99",
   "metadata": {},
   "source": []
  },
  {
   "cell_type": "code",
   "execution_count": null,
   "id": "44d07386-2d6a-49c2-834d-f07c22e89dd4",
   "metadata": {},
   "outputs": [],
   "source": [
    "# They are temporarily used to store data in a computer memory.\n",
    "# RULES\n",
    "'''1. A variable name cannot start with numbers.\n",
    "2. They must not contain spces but rather underscore.Special characters(!@#$%^&*) cant be used also.\n",
    "3 .Writing in lowercases is preferred(PEP08).\n",
    "4. Avoid words that has special meaning(list,String,etc) in python.\n",
    "5. Variables can be assigned to different dat types. \n",
    "6. Python is statically and dynamically typed.'''"
   ]
  },
  {
   "cell_type": "code",
   "execution_count": null,
   "id": "6b84b470-27cd-4dd9-b3f2-e452eb9e6411",
   "metadata": {},
   "outputs": [],
   "source": [
    "Aliu = 5"
   ]
  }
 ],
 "metadata": {
  "kernelspec": {
   "display_name": "Python 3 (ipykernel)",
   "language": "python",
   "name": "python3"
  },
  "language_info": {
   "codemirror_mode": {
    "name": "ipython",
    "version": 3
   },
   "file_extension": ".py",
   "mimetype": "text/x-python",
   "name": "python",
   "nbconvert_exporter": "python",
   "pygments_lexer": "ipython3",
   "version": "3.12.7"
  }
 },
 "nbformat": 4,
 "nbformat_minor": 5
}
