{
 "cells": [
  {
   "cell_type": "markdown",
   "id": "3ce479af-0542-4f43-a248-418e297ae005",
   "metadata": {
    "jp-MarkdownHeadingCollapsed": true
   },
   "source": [
    "# HEADERS"
   ]
  },
  {
   "cell_type": "markdown",
   "id": "791c0f2e-a71c-4c85-955a-a9f9c7a4e129",
   "metadata": {},
   "source": [
    "# Heading 1\n",
    "## Heading 2\n",
    "### Heading 3\n",
    "#### Heading 4\n",
    "##### Heading 5"
   ]
  },
  {
   "cell_type": "code",
   "execution_count": 1,
   "id": "35f73e3f-cbb0-48e3-83af-d93131408b5a",
   "metadata": {
    "scrolled": true
   },
   "outputs": [
    {
     "name": "stdout",
     "output_type": "stream",
     "text": [
      "Hello world\n"
     ]
    }
   ],
   "source": [
    "print(\"Hello world\")"
   ]
  },
  {
   "cell_type": "markdown",
   "id": "96e7e4fa-d2b0-4844-a498-01613c9b02e5",
   "metadata": {},
   "source": [
    "# Hello, I am Al Amin"
   ]
  },
  {
   "cell_type": "code",
   "execution_count": 2,
   "id": "78142a09-34f8-48f4-88e8-a0fd53a75e37",
   "metadata": {},
   "outputs": [
    {
     "name": "stdout",
     "output_type": "stream",
     "text": [
      "This is my first tutorial on python\n"
     ]
    }
   ],
   "source": [
    "print(\"This is my first tutorial on python\")"
   ]
  },
  {
   "cell_type": "code",
   "execution_count": 3,
   "id": "5e92d6bc-0d89-4f76-8128-374ff45e3672",
   "metadata": {},
   "outputs": [
    {
     "name": "stdout",
     "output_type": "stream",
     "text": [
      "And also my first time using Jupyter notebook\n"
     ]
    }
   ],
   "source": [
    "print(\"And also my first time using Jupyter notebook\")"
   ]
  },
  {
   "cell_type": "code",
   "execution_count": 4,
   "id": "48d5e31c-1856-4df2-865e-f81ff7141dfb",
   "metadata": {},
   "outputs": [
    {
     "name": "stdout",
     "output_type": "stream",
     "text": [
      "Welcome to Python Programming(Set-up and Installation)\n"
     ]
    }
   ],
   "source": [
    "print(\"Welcome to Python Programming(Set-up and Installation)\")"
   ]
  },
  {
   "cell_type": "code",
   "execution_count": null,
   "id": "3c7b59fe-9209-4b72-8b0e-6a15ab34855b",
   "metadata": {},
   "outputs": [],
   "source": []
  }
 ],
 "metadata": {
  "kernelspec": {
   "display_name": "Python 3 (ipykernel)",
   "language": "python",
   "name": "python3"
  },
  "language_info": {
   "codemirror_mode": {
    "name": "ipython",
    "version": 3
   },
   "file_extension": ".py",
   "mimetype": "text/x-python",
   "name": "python",
   "nbconvert_exporter": "python",
   "pygments_lexer": "ipython3",
   "version": "3.12.7"
  }
 },
 "nbformat": 4,
 "nbformat_minor": 5
}
