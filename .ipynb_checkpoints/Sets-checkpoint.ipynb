{
 "cells": [
  {
   "cell_type": "code",
   "execution_count": 1,
   "id": "89db751d-0662-4ed0-a8c6-0712db981805",
   "metadata": {},
   "outputs": [],
   "source": [
    "#Sets are unordered collecction of unique elements. They are simply dictionary wthout keys. "
   ]
  },
  {
   "cell_type": "code",
   "execution_count": 7,
   "id": "4e6806e2-dd2e-4c25-94a0-0fe2499f164a",
   "metadata": {},
   "outputs": [],
   "source": [
    "x=set()"
   ]
  },
  {
   "cell_type": "code",
   "execution_count": 8,
   "id": "9a08dfab-e10b-477e-a55e-d6568b2222d9",
   "metadata": {},
   "outputs": [],
   "source": [
    "x.add(1)"
   ]
  },
  {
   "cell_type": "code",
   "execution_count": 9,
   "id": "a02e5293-0376-4719-badc-6479667af13e",
   "metadata": {},
   "outputs": [
    {
     "data": {
      "text/plain": [
       "{1}"
      ]
     },
     "execution_count": 9,
     "metadata": {},
     "output_type": "execute_result"
    }
   ],
   "source": [
    "x"
   ]
  },
  {
   "cell_type": "code",
   "execution_count": 10,
   "id": "84d16180-ff34-401b-ba18-50334797d7a6",
   "metadata": {},
   "outputs": [],
   "source": [
    "x.add(2)"
   ]
  },
  {
   "cell_type": "code",
   "execution_count": 11,
   "id": "02338315-b968-4d2f-b1f0-5ac4b4d54265",
   "metadata": {},
   "outputs": [
    {
     "data": {
      "text/plain": [
       "{1, 2}"
      ]
     },
     "execution_count": 11,
     "metadata": {},
     "output_type": "execute_result"
    }
   ],
   "source": [
    "x"
   ]
  },
  {
   "cell_type": "code",
   "execution_count": 12,
   "id": "3854a10e-6934-415b-9e3b-6dfa7f545937",
   "metadata": {},
   "outputs": [],
   "source": [
    "x.add(1)"
   ]
  },
  {
   "cell_type": "code",
   "execution_count": 13,
   "id": "6d8546ff-4605-428a-b319-a47b42c7d7ef",
   "metadata": {},
   "outputs": [
    {
     "data": {
      "text/plain": [
       "{1, 2}"
      ]
     },
     "execution_count": 13,
     "metadata": {},
     "output_type": "execute_result"
    }
   ],
   "source": [
    "x"
   ]
  },
  {
   "cell_type": "code",
   "execution_count": 15,
   "id": "012708dd-2b1a-4639-be89-92144719e83d",
   "metadata": {},
   "outputs": [],
   "source": [
    "list1=[1,2,3,4,5,6,1,1,5,2,3,7]"
   ]
  },
  {
   "cell_type": "code",
   "execution_count": 16,
   "id": "e49a99f2-f843-4b12-bb9e-490745e797a3",
   "metadata": {},
   "outputs": [
    {
     "data": {
      "text/plain": [
       "[1, 2, 3, 4, 5, 6, 1, 1, 5, 2, 3, 7]"
      ]
     },
     "execution_count": 16,
     "metadata": {},
     "output_type": "execute_result"
    }
   ],
   "source": [
    "list1"
   ]
  },
  {
   "cell_type": "code",
   "execution_count": 17,
   "id": "57ba1110-2005-4e95-bbb8-548e4fbb2b6f",
   "metadata": {},
   "outputs": [
    {
     "data": {
      "text/plain": [
       "{1, 2, 3, 4, 5, 6, 7}"
      ]
     },
     "execution_count": 17,
     "metadata": {},
     "output_type": "execute_result"
    }
   ],
   "source": [
    "set(list1)"
   ]
  },
  {
   "cell_type": "code",
   "execution_count": 18,
   "id": "50d39bb5-c155-48e6-ac8d-02d2ca702d05",
   "metadata": {},
   "outputs": [],
   "source": [
    "list2=[10,1,5,8,2,4,5,7,10]"
   ]
  },
  {
   "cell_type": "code",
   "execution_count": 19,
   "id": "4cd9ff6b-68a7-4e86-a49e-13d3a591c3ac",
   "metadata": {},
   "outputs": [
    {
     "data": {
      "text/plain": [
       "[10, 1, 5, 8, 2, 4, 5, 7, 10]"
      ]
     },
     "execution_count": 19,
     "metadata": {},
     "output_type": "execute_result"
    }
   ],
   "source": [
    "list2"
   ]
  },
  {
   "cell_type": "code",
   "execution_count": 20,
   "id": "96765ccb-1527-4781-9b71-29b226238cf3",
   "metadata": {},
   "outputs": [
    {
     "data": {
      "text/plain": [
       "{1, 2, 4, 5, 7, 8, 10}"
      ]
     },
     "execution_count": 20,
     "metadata": {},
     "output_type": "execute_result"
    }
   ],
   "source": [
    "set(list2)"
   ]
  },
  {
   "cell_type": "code",
   "execution_count": null,
   "id": "b2c6e376-5aac-4e87-949e-3f0723696705",
   "metadata": {},
   "outputs": [],
   "source": []
  },
  {
   "cell_type": "code",
   "execution_count": null,
   "id": "d5e95d0c-c2f9-4187-8f2a-7aec9a31a2cb",
   "metadata": {},
   "outputs": [],
   "source": []
  }
 ],
 "metadata": {
  "kernelspec": {
   "display_name": "Python 3 (ipykernel)",
   "language": "python",
   "name": "python3"
  },
  "language_info": {
   "codemirror_mode": {
    "name": "ipython",
    "version": 3
   },
   "file_extension": ".py",
   "mimetype": "text/x-python",
   "name": "python",
   "nbconvert_exporter": "python",
   "pygments_lexer": "ipython3",
   "version": "3.12.7"
  }
 },
 "nbformat": 4,
 "nbformat_minor": 5
}
