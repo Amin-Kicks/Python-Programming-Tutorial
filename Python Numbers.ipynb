{
 "cells": [
  {
   "cell_type": "markdown",
   "id": "741358ab-db31-4f51-a648-2426c2d29dd1",
   "metadata": {},
   "source": [
    "# Basic Arithmetic"
   ]
  },
  {
   "cell_type": "code",
   "execution_count": null,
   "id": "94609162-7d85-4b60-81cd-cf17a5340983",
   "metadata": {},
   "outputs": [],
   "source": [
    "# Addition\n",
    "2+1"
   ]
  },
  {
   "cell_type": "code",
   "execution_count": 4,
   "id": "09374e5c-0521-474c-87e2-da24ddae46cf",
   "metadata": {},
   "outputs": [
    {
     "data": {
      "text/plain": [
       "2"
      ]
     },
     "execution_count": 4,
     "metadata": {},
     "output_type": "execute_result"
    }
   ],
   "source": [
    "# Subtraction\n",
    "6-4"
   ]
  },
  {
   "cell_type": "code",
   "execution_count": 5,
   "id": "4a601995-4bf1-4169-9bca-0a1defd8deff",
   "metadata": {},
   "outputs": [
    {
     "data": {
      "text/plain": [
       "48"
      ]
     },
     "execution_count": 5,
     "metadata": {},
     "output_type": "execute_result"
    }
   ],
   "source": [
    "# Multiplication\n",
    "12*4"
   ]
  },
  {
   "cell_type": "code",
   "execution_count": 6,
   "id": "9a37f278-3c52-4803-a1b7-12ea341c277c",
   "metadata": {},
   "outputs": [
    {
     "data": {
      "text/plain": [
       "3.0"
      ]
     },
     "execution_count": 6,
     "metadata": {},
     "output_type": "execute_result"
    }
   ],
   "source": [
    "# Division\n",
    "24/8"
   ]
  },
  {
   "cell_type": "code",
   "execution_count": 8,
   "id": "d3d655d8-dda9-4372-9a52-a04c6d500807",
   "metadata": {},
   "outputs": [
    {
     "data": {
      "text/plain": [
       "15"
      ]
     },
     "execution_count": 8,
     "metadata": {},
     "output_type": "execute_result"
    }
   ],
   "source": [
    "# Floor Division : Removes the decimal without rounding up or down\n",
    "78//5"
   ]
  },
  {
   "cell_type": "code",
   "execution_count": 13,
   "id": "93e83cea-8787-478f-b16c-fe990f2746c4",
   "metadata": {},
   "outputs": [
    {
     "data": {
      "text/plain": [
       "5"
      ]
     },
     "execution_count": 13,
     "metadata": {},
     "output_type": "execute_result"
    }
   ],
   "source": [
    "# Modulo Operator : Returns the remainder\n",
    "5%6 "
   ]
  },
  {
   "cell_type": "code",
   "execution_count": 12,
   "id": "c03f1de7-0839-4428-9abb-3be91aecb6ea",
   "metadata": {
    "scrolled": true
   },
   "outputs": [
    {
     "data": {
      "text/plain": [
       "512"
      ]
     },
     "execution_count": 12,
     "metadata": {},
     "output_type": "execute_result"
    }
   ],
   "source": [
    "# Power\n",
    "2**9"
   ]
  },
  {
   "cell_type": "markdown",
   "id": "afbfed89-4c3a-4391-82db-102e68421b50",
   "metadata": {},
   "source": [
    "# Variable Assignment"
   ]
  },
  {
   "cell_type": "code",
   "execution_count": 13,
   "id": "59ea4bcc-0a6b-4adb-a2f8-c1accaff0306",
   "metadata": {},
   "outputs": [],
   "source": [
    "a=5"
   ]
  },
  {
   "cell_type": "code",
   "execution_count": 14,
   "id": "25edfc53-4d98-47a8-b5ee-dfe2aeda27b6",
   "metadata": {},
   "outputs": [
    {
     "data": {
      "text/plain": [
       "5"
      ]
     },
     "execution_count": 14,
     "metadata": {},
     "output_type": "execute_result"
    }
   ],
   "source": [
    "a"
   ]
  },
  {
   "cell_type": "code",
   "execution_count": 15,
   "id": "8ed2f422-63b4-4d13-b03f-82c5060b8622",
   "metadata": {},
   "outputs": [
    {
     "data": {
      "text/plain": [
       "10"
      ]
     },
     "execution_count": 15,
     "metadata": {},
     "output_type": "execute_result"
    }
   ],
   "source": [
    "a+a"
   ]
  },
  {
   "cell_type": "code",
   "execution_count": 16,
   "id": "736c7a88-d538-4aa2-92c9-1c9734e7a979",
   "metadata": {},
   "outputs": [],
   "source": [
    "a=12"
   ]
  },
  {
   "cell_type": "code",
   "execution_count": 17,
   "id": "fc6ba49f-7650-475e-bdbc-4c782de7c615",
   "metadata": {},
   "outputs": [
    {
     "data": {
      "text/plain": [
       "12"
      ]
     },
     "execution_count": 17,
     "metadata": {},
     "output_type": "execute_result"
    }
   ],
   "source": [
    "a"
   ]
  },
  {
   "cell_type": "code",
   "execution_count": 19,
   "id": "86f82272-b760-411a-b476-239f335f51c7",
   "metadata": {},
   "outputs": [],
   "source": [
    "# Calculating Tax\n",
    "my_income=100\n",
    "tax_rate=0.4\n",
    "my_tax=my_income*tax_rate"
   ]
  },
  {
   "cell_type": "code",
   "execution_count": 20,
   "id": "59120746-bc0d-4b99-a32a-20ee5d60db70",
   "metadata": {},
   "outputs": [
    {
     "data": {
      "text/plain": [
       "40.0"
      ]
     },
     "execution_count": 20,
     "metadata": {},
     "output_type": "execute_result"
    }
   ],
   "source": [
    "my_tax"
   ]
  }
 ],
 "metadata": {
  "kernelspec": {
   "display_name": "Python 3 (ipykernel)",
   "language": "python",
   "name": "python3"
  },
  "language_info": {
   "codemirror_mode": {
    "name": "ipython",
    "version": 3
   },
   "file_extension": ".py",
   "mimetype": "text/x-python",
   "name": "python",
   "nbconvert_exporter": "python",
   "pygments_lexer": "ipython3",
   "version": "3.12.7"
  }
 },
 "nbformat": 4,
 "nbformat_minor": 5
}
