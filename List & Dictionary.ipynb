{
 "cells": [
  {
   "cell_type": "markdown",
   "id": "bc234967-b32e-43f9-bf96-6712d7f1ee4f",
   "metadata": {},
   "source": [
    "## List\n",
    "#They are ordered sequences that hold a variety of object/data types in square brackets[] separated by comasa list can be indexed and sliced. A list \n",
    "#can be contained in another list.Note that objects ae retrived by location."
   ]
  },
  {
   "cell_type": "code",
   "execution_count": 1,
   "id": "a908855c-6476-479a-9411-80ecb409aa84",
   "metadata": {
    "scrolled": true
   },
   "outputs": [
    {
     "data": {
      "text/plain": [
       "[1, 2, 3]"
      ]
     },
     "execution_count": 1,
     "metadata": {},
     "output_type": "execute_result"
    }
   ],
   "source": [
    "my_list=[1,2,3]\n",
    "my_list"
   ]
  },
  {
   "cell_type": "code",
   "execution_count": 3,
   "id": "f4d18f58-01c4-48f6-ad6e-347b1a4c0d1d",
   "metadata": {},
   "outputs": [
    {
     "data": {
      "text/plain": [
       "3"
      ]
     },
     "execution_count": 3,
     "metadata": {},
     "output_type": "execute_result"
    }
   ],
   "source": [
    "len(my_list)"
   ]
  },
  {
   "cell_type": "code",
   "execution_count": 2,
   "id": "5fe80059-5fcd-4e0a-99f9-277bcad3b4ad",
   "metadata": {},
   "outputs": [
    {
     "data": {
      "text/plain": [
       "['Al Amin', 24, 4.7, -6]"
      ]
     },
     "execution_count": 2,
     "metadata": {},
     "output_type": "execute_result"
    }
   ],
   "source": [
    "my_lists=['Al Amin',24,4.7,-6,]\n",
    "my_lists"
   ]
  },
  {
   "cell_type": "code",
   "execution_count": 4,
   "id": "83b16d90-645b-4600-bd44-c939291a97e0",
   "metadata": {},
   "outputs": [
    {
     "data": {
      "text/plain": [
       "4"
      ]
     },
     "execution_count": 4,
     "metadata": {},
     "output_type": "execute_result"
    }
   ],
   "source": [
    "len(my_lists)"
   ]
  },
  {
   "cell_type": "markdown",
   "id": "9c8f815d-98ef-4abd-8efd-806f29588fe0",
   "metadata": {},
   "source": [
    "## Indexing "
   ]
  },
  {
   "cell_type": "code",
   "execution_count": 5,
   "id": "d20cf1a4-8e6b-4908-99e4-50feb5517382",
   "metadata": {},
   "outputs": [
    {
     "data": {
      "text/plain": [
       "['Sulaimon', 'forty', 1, 0.4]"
      ]
     },
     "execution_count": 5,
     "metadata": {},
     "output_type": "execute_result"
    }
   ],
   "source": [
    "list=['Sulaimon','forty',1,0.4]\n",
    "list"
   ]
  },
  {
   "cell_type": "code",
   "execution_count": 7,
   "id": "dd453b95-0225-4cfd-af93-524467e7aa4c",
   "metadata": {},
   "outputs": [
    {
     "data": {
      "text/plain": [
       "['forty', 1, 0.4]"
      ]
     },
     "execution_count": 7,
     "metadata": {},
     "output_type": "execute_result"
    }
   ],
   "source": [
    "list[1:]"
   ]
  },
  {
   "cell_type": "code",
   "execution_count": 8,
   "id": "64fb53d6-136a-42f7-8ef3-82f99f2deec1",
   "metadata": {},
   "outputs": [
    {
     "data": {
      "text/plain": [
       "['Sulaimon']"
      ]
     },
     "execution_count": 8,
     "metadata": {},
     "output_type": "execute_result"
    }
   ],
   "source": [
    "list[:1]"
   ]
  },
  {
   "cell_type": "code",
   "execution_count": 9,
   "id": "ee899193-e573-4b1a-ab2b-e9cb5b4d5c87",
   "metadata": {},
   "outputs": [
    {
     "data": {
      "text/plain": [
       "'Sulaimon'"
      ]
     },
     "execution_count": 9,
     "metadata": {},
     "output_type": "execute_result"
    }
   ],
   "source": [
    "list[0]"
   ]
  },
  {
   "cell_type": "code",
   "execution_count": 10,
   "id": "a2fb9765-03eb-465e-93da-49a4210babee",
   "metadata": {},
   "outputs": [
    {
     "data": {
      "text/plain": [
       "['Sulaimon', 'forty', 1]"
      ]
     },
     "execution_count": 10,
     "metadata": {},
     "output_type": "execute_result"
    }
   ],
   "source": [
    "list[:3]"
   ]
  },
  {
   "cell_type": "markdown",
   "id": "54ae9f1c-2c9e-4c42-8689-264677dad4ee",
   "metadata": {},
   "source": [
    "## Concatenation"
   ]
  },
  {
   "cell_type": "code",
   "execution_count": 12,
   "id": "74ad7ca4-864a-4341-a0c5-c269438c1059",
   "metadata": {},
   "outputs": [
    {
     "data": {
      "text/plain": [
       "['Akanbi', 1, 8, 5]"
      ]
     },
     "execution_count": 12,
     "metadata": {},
     "output_type": "execute_result"
    }
   ],
   "source": [
    "lists=['Akanbi',1,8,5]\n",
    "lists"
   ]
  },
  {
   "cell_type": "code",
   "execution_count": 13,
   "id": "2e613c24-9763-4fc4-98d9-912b365c595a",
   "metadata": {},
   "outputs": [
    {
     "data": {
      "text/plain": [
       "['Sulaimon', 'forty', 1, 0.4, 'Akanbi', 1, 8, 5]"
      ]
     },
     "execution_count": 13,
     "metadata": {},
     "output_type": "execute_result"
    }
   ],
   "source": [
    "list+lists"
   ]
  },
  {
   "cell_type": "code",
   "execution_count": 14,
   "id": "4f8f7ffa-9109-4730-8ca1-45f8ec31230c",
   "metadata": {},
   "outputs": [
    {
     "data": {
      "text/plain": [
       "['Sulaimon', 'forty', 1, 0.4, 1, 2, 3]"
      ]
     },
     "execution_count": 14,
     "metadata": {},
     "output_type": "execute_result"
    }
   ],
   "source": [
    "list+my_list"
   ]
  },
  {
   "cell_type": "code",
   "execution_count": 15,
   "id": "037622e1-f30f-4449-9cad-746c80ff80a4",
   "metadata": {},
   "outputs": [
    {
     "data": {
      "text/plain": [
       "['Akanbi', 1, 8, 5, 1, 2, 3]"
      ]
     },
     "execution_count": 15,
     "metadata": {},
     "output_type": "execute_result"
    }
   ],
   "source": [
    "lists+my_list"
   ]
  },
  {
   "cell_type": "code",
   "execution_count": 16,
   "id": "bc11e495-1436-4e4a-8cf5-f3efaa214da0",
   "metadata": {},
   "outputs": [
    {
     "data": {
      "text/plain": [
       "['Akanbi', 1, 8, 5, 'Al Amin', 24, 4.7, -6]"
      ]
     },
     "execution_count": 16,
     "metadata": {},
     "output_type": "execute_result"
    }
   ],
   "source": [
    "lists+my_lists"
   ]
  },
  {
   "cell_type": "code",
   "execution_count": 17,
   "id": "45b1093f-af51-4f8f-9316-40d2105ebd44",
   "metadata": {},
   "outputs": [
    {
     "data": {
      "text/plain": [
       "[1, 2, 3, 'Al Amin', 24, 4.7, -6]"
      ]
     },
     "execution_count": 17,
     "metadata": {},
     "output_type": "execute_result"
    }
   ],
   "source": [
    "my_list+my_lists"
   ]
  },
  {
   "cell_type": "code",
   "execution_count": 19,
   "id": "a0d022b2-bc02-4d4b-a976-6137f58d440f",
   "metadata": {},
   "outputs": [
    {
     "data": {
      "text/plain": [
       "['Akanbi', 1, 8, 5, 'add new line permanently']"
      ]
     },
     "execution_count": 19,
     "metadata": {},
     "output_type": "execute_result"
    }
   ],
   "source": [
    "# To permanently assign a new item to a list\n",
    "list=lists+['add new line permanently']\n",
    "list"
   ]
  },
  {
   "cell_type": "code",
   "execution_count": 24,
   "id": "810e4c07-23d1-410a-999f-6d5450bc6f81",
   "metadata": {},
   "outputs": [
    {
     "data": {
      "text/plain": [
       "['Akanbi', 1, 8, 5, 'Akanbi', 1, 8, 5]"
      ]
     },
     "execution_count": 24,
     "metadata": {},
     "output_type": "execute_result"
    }
   ],
   "source": [
    "lists*2"
   ]
  },
  {
   "cell_type": "markdown",
   "id": "c83cdb8d-13f7-46a7-8100-d6bd8d61629e",
   "metadata": {},
   "source": [
    "## Basic List Methods:"
   ]
  },
  {
   "cell_type": "code",
   "execution_count": 36,
   "id": "09bc9a95-2c54-4df9-b445-c83ffbf21ee5",
   "metadata": {},
   "outputs": [
    {
     "data": {
      "text/plain": [
       "[1, 7, 5]"
      ]
     },
     "execution_count": 36,
     "metadata": {},
     "output_type": "execute_result"
    }
   ],
   "source": [
    "list1=[1,7,5]\n",
    "list1"
   ]
  },
  {
   "cell_type": "code",
   "execution_count": 40,
   "id": "81e3b19f-4a9f-42da-beb5-bec65b015a12",
   "metadata": {},
   "outputs": [
    {
     "data": {
      "text/plain": [
       "[1, 7, 5, 'append me', 'append me', '0', '0']"
      ]
     },
     "execution_count": 40,
     "metadata": {},
     "output_type": "execute_result"
    }
   ],
   "source": [
    "#1. '.append': It is used to add new item to a list\n",
    "list1.append(\"0\")\n",
    "list1"
   ]
  },
  {
   "cell_type": "code",
   "execution_count": 41,
   "id": "c9b19555-f4a6-415f-93dc-1a1e20597606",
   "metadata": {},
   "outputs": [
    {
     "data": {
      "text/plain": [
       "1"
      ]
     },
     "execution_count": 41,
     "metadata": {},
     "output_type": "execute_result"
    }
   ],
   "source": [
    "#2. '.pop.:It is used to change an item in a list\n",
    "list1.pop(0)"
   ]
  },
  {
   "cell_type": "code",
   "execution_count": 42,
   "id": "8f537fd3-585a-476f-bce9-6773b862bd15",
   "metadata": {},
   "outputs": [
    {
     "data": {
      "text/plain": [
       "[7, 5, 'append me', 'append me', '0', '0']"
      ]
     },
     "execution_count": 42,
     "metadata": {},
     "output_type": "execute_result"
    }
   ],
   "source": [
    "list1"
   ]
  },
  {
   "cell_type": "code",
   "execution_count": 43,
   "id": "592a467e-8732-4768-8f7b-24ffe617e75f",
   "metadata": {},
   "outputs": [],
   "source": [
    "#or\n",
    "pop_list=list1.pop() #to remove the last letter"
   ]
  },
  {
   "cell_type": "code",
   "execution_count": 44,
   "id": "43344ec1-61ed-4215-8ba3-6e5b234b0245",
   "metadata": {},
   "outputs": [
    {
     "data": {
      "text/plain": [
       "[7, 5, 'append me', 'append me', '0']"
      ]
     },
     "execution_count": 44,
     "metadata": {},
     "output_type": "execute_result"
    }
   ],
   "source": [
    "list1"
   ]
  },
  {
   "cell_type": "code",
   "execution_count": 45,
   "id": "dcee79a4-0712-43ad-a1dc-adfb455df857",
   "metadata": {},
   "outputs": [
    {
     "data": {
      "text/plain": [
       "5"
      ]
     },
     "execution_count": 45,
     "metadata": {},
     "output_type": "execute_result"
    }
   ],
   "source": [
    "len(list1)"
   ]
  },
  {
   "cell_type": "code",
   "execution_count": 46,
   "id": "5105f02f-97a7-4c54-9f3e-91f443c16cd2",
   "metadata": {},
   "outputs": [
    {
     "data": {
      "text/plain": [
       "['a', 'm', 'i', 'n']"
      ]
     },
     "execution_count": 46,
     "metadata": {},
     "output_type": "execute_result"
    }
   ],
   "source": [
    "#3. '.reverse':To reverse the order of items\n",
    "new_list=[\"a\",\"m\",\"i\",\"n\"]\n",
    "new_list"
   ]
  },
  {
   "cell_type": "code",
   "execution_count": 50,
   "id": "21d8ba96-f3d1-40ba-af15-c608a0449c18",
   "metadata": {},
   "outputs": [
    {
     "data": {
      "text/plain": [
       "['n', 'i', 'm', 'a']"
      ]
     },
     "execution_count": 50,
     "metadata": {},
     "output_type": "execute_result"
    }
   ],
   "source": [
    "new_list.reverse()\n",
    "new_list"
   ]
  },
  {
   "cell_type": "code",
   "execution_count": 52,
   "id": "4f9de42c-06bd-4e2a-9b9b-e70428d5c458",
   "metadata": {},
   "outputs": [
    {
     "data": {
      "text/plain": [
       "['a', 'i', 'm', 'n']"
      ]
     },
     "execution_count": 52,
     "metadata": {},
     "output_type": "execute_result"
    }
   ],
   "source": [
    "#4. '.sort': To arrange items in the list alphabetically.\n",
    "new_list.sort()\n",
    "new_list"
   ]
  },
  {
   "cell_type": "markdown",
   "id": "1f32abbd-cb98-47d4-89f1-16a2be5f09fb",
   "metadata": {},
   "source": [
    "## Nested List"
   ]
  },
  {
   "cell_type": "code",
   "execution_count": 53,
   "id": "f48e3978-bdbd-4ed3-8653-a0f8f85abab1",
   "metadata": {},
   "outputs": [],
   "source": [
    "list2=[1,3,5]\n",
    "list3=[7,9,1]\n",
    "list4=[3,5,7]\n",
    "\n",
    "matrix=[list2,list3,list4]"
   ]
  },
  {
   "cell_type": "code",
   "execution_count": 54,
   "id": "00f7335f-8053-4a28-a020-ac7a87e78d82",
   "metadata": {},
   "outputs": [
    {
     "data": {
      "text/plain": [
       "[[1, 3, 5], [7, 9, 1], [3, 5, 7]]"
      ]
     },
     "execution_count": 54,
     "metadata": {},
     "output_type": "execute_result"
    }
   ],
   "source": [
    "matrix"
   ]
  },
  {
   "cell_type": "code",
   "execution_count": 60,
   "id": "e0f7eb59-869a-401d-9d77-0972b439a41d",
   "metadata": {},
   "outputs": [
    {
     "data": {
      "text/plain": [
       "[[1, 3, 5], [7, 9, 1], [3, 5, 7]]"
      ]
     },
     "execution_count": 60,
     "metadata": {},
     "output_type": "execute_result"
    }
   ],
   "source": [
    "#To access an item in a nested list\n",
    "matrix"
   ]
  },
  {
   "cell_type": "code",
   "execution_count": 62,
   "id": "17c1cbd0-ea64-4a78-b6ad-b0b2468aadfe",
   "metadata": {},
   "outputs": [
    {
     "data": {
      "text/plain": [
       "[1, 3, 5]"
      ]
     },
     "execution_count": 62,
     "metadata": {},
     "output_type": "execute_result"
    }
   ],
   "source": [
    "matrix[0]"
   ]
  },
  {
   "cell_type": "code",
   "execution_count": 63,
   "id": "25e1c337-8495-42fd-bb51-91614d5d990b",
   "metadata": {},
   "outputs": [
    {
     "data": {
      "text/plain": [
       "1"
      ]
     },
     "execution_count": 63,
     "metadata": {},
     "output_type": "execute_result"
    }
   ],
   "source": [
    "matrix[0][0]"
   ]
  },
  {
   "cell_type": "code",
   "execution_count": 64,
   "id": "6b36a1b8-b665-4579-ac75-4f0045f53900",
   "metadata": {},
   "outputs": [
    {
     "data": {
      "text/plain": [
       "5"
      ]
     },
     "execution_count": 64,
     "metadata": {},
     "output_type": "execute_result"
    }
   ],
   "source": [
    "matrix[0][2]"
   ]
  },
  {
   "cell_type": "code",
   "execution_count": 65,
   "id": "606ca231-3145-4cdf-a5c3-8d63ba8c1d01",
   "metadata": {},
   "outputs": [
    {
     "data": {
      "text/plain": [
       "7"
      ]
     },
     "execution_count": 65,
     "metadata": {},
     "output_type": "execute_result"
    }
   ],
   "source": [
    "matrix[2][2]"
   ]
  },
  {
   "cell_type": "markdown",
   "id": "d4e23126-50dd-4074-ae6b-e4c77774d989",
   "metadata": {},
   "source": [
    "## List Comprehension:It can used to print out list item.It is an advance feature that alows you to quicly construct a list"
   ]
  },
  {
   "cell_type": "code",
   "execution_count": 66,
   "id": "80b1153b-ea08-40da-af88-6b3780cc594d",
   "metadata": {},
   "outputs": [],
   "source": [
    "first_col=[row[1] for row in matrix]"
   ]
  },
  {
   "cell_type": "code",
   "execution_count": 67,
   "id": "209a9fbe-1c8c-43f8-8aab-da886ece3814",
   "metadata": {},
   "outputs": [
    {
     "data": {
      "text/plain": [
       "[3, 9, 5]"
      ]
     },
     "execution_count": 67,
     "metadata": {},
     "output_type": "execute_result"
    }
   ],
   "source": [
    "first_col"
   ]
  },
  {
   "cell_type": "markdown",
   "id": "ec6d8fab-65f8-4786-b9c2-bf692d75c8ac",
   "metadata": {},
   "source": [
    "## Dictionary\n",
    "#They are unordered mappings for storing objects using key-value pair to quickly grab items.Curly braces and colons are used.Note that objects are\n",
    "#retrived by key name,Items are unordered and cannot be sorted."
   ]
  },
  {
   "cell_type": "code",
   "execution_count": 68,
   "id": "8f6c846c-fa8f-4bb7-ab7c-c732ffe5d812",
   "metadata": {},
   "outputs": [
    {
     "data": {
      "text/plain": [
       "{'Key1': 'Value1', 'key2': 'Value2'}"
      ]
     },
     "execution_count": 68,
     "metadata": {},
     "output_type": "execute_result"
    }
   ],
   "source": [
    "my_dict={\"Key1\":\"Value1\",\"key2\":\"Value2\"}\n",
    "my_dict"
   ]
  },
  {
   "cell_type": "code",
   "execution_count": 70,
   "id": "475be6c9-1640-4fe4-b8e6-42686fc9906b",
   "metadata": {},
   "outputs": [
    {
     "data": {
      "text/plain": [
       "'Value2'"
      ]
     },
     "execution_count": 70,
     "metadata": {},
     "output_type": "execute_result"
    }
   ],
   "source": [
    "my_dict[\"key2\"]"
   ]
  },
  {
   "cell_type": "code",
   "execution_count": 73,
   "id": "58915ac6-9097-428d-b4e7-ef5d13f549ea",
   "metadata": {},
   "outputs": [
    {
     "data": {
      "text/plain": [
       "{'key1': 123, 'key2': [12, 23, 33], 'key3': ['item0', 'item1', 'item2']}"
      ]
     },
     "execution_count": 73,
     "metadata": {},
     "output_type": "execute_result"
    }
   ],
   "source": [
    "my_dic={\"key1\":123,\"key2\":[12,23,33],\"key3\":[\"item0\",\"item1\",\"item2\"]}\n",
    "my_dic"
   ]
  },
  {
   "cell_type": "code",
   "execution_count": 75,
   "id": "d0f12cb4-4085-4484-8309-a14ffa013825",
   "metadata": {},
   "outputs": [
    {
     "data": {
      "text/plain": [
       "'item0'"
      ]
     },
     "execution_count": 75,
     "metadata": {},
     "output_type": "execute_result"
    }
   ],
   "source": [
    "my_dic[\"key3\"][0]"
   ]
  },
  {
   "cell_type": "code",
   "execution_count": 76,
   "id": "b54c9fd2-dd32-4212-9b8c-07774d05442d",
   "metadata": {},
   "outputs": [
    {
     "data": {
      "text/plain": [
       "'ITEM0'"
      ]
     },
     "execution_count": 76,
     "metadata": {},
     "output_type": "execute_result"
    }
   ],
   "source": [
    "my_dic[\"key3\"][0].upper()"
   ]
  },
  {
   "cell_type": "code",
   "execution_count": 77,
   "id": "dc70f170-b575-4390-beb8-473ebb06f13c",
   "metadata": {},
   "outputs": [
    {
     "data": {
      "text/plain": [
       "123"
      ]
     },
     "execution_count": 77,
     "metadata": {},
     "output_type": "execute_result"
    }
   ],
   "source": [
    "my_dic[\"key1\"]"
   ]
  },
  {
   "cell_type": "code",
   "execution_count": 78,
   "id": "cd4d8fb2-0562-4a06-8eb8-3e4ca006dd3a",
   "metadata": {},
   "outputs": [],
   "source": [
    "my_dic[\"key1\"]=my_dic[\"key1\"]-123"
   ]
  },
  {
   "cell_type": "code",
   "execution_count": 79,
   "id": "d1d970d4-438c-41ec-b4ed-f0f28eabed9d",
   "metadata": {},
   "outputs": [
    {
     "data": {
      "text/plain": [
       "0"
      ]
     },
     "execution_count": 79,
     "metadata": {},
     "output_type": "execute_result"
    }
   ],
   "source": [
    "my_dic[\"key1\"]"
   ]
  },
  {
   "cell_type": "code",
   "execution_count": 80,
   "id": "9a4aa780-1d64-4827-a6c3-f2ca33e28cfc",
   "metadata": {},
   "outputs": [],
   "source": [
    "my_dic[\"key1\"]-=123"
   ]
  },
  {
   "cell_type": "code",
   "execution_count": 81,
   "id": "563e7c7d-2544-47aa-8c40-a9cf05fb66e9",
   "metadata": {},
   "outputs": [
    {
     "data": {
      "text/plain": [
       "-123"
      ]
     },
     "execution_count": 81,
     "metadata": {},
     "output_type": "execute_result"
    }
   ],
   "source": [
    "my_dic[\"key1\"]"
   ]
  },
  {
   "cell_type": "code",
   "execution_count": 82,
   "id": "8778b39c-d3ca-4c09-91be-1859da3a4fe3",
   "metadata": {},
   "outputs": [],
   "source": [
    "d={}"
   ]
  },
  {
   "cell_type": "code",
   "execution_count": 83,
   "id": "ac81e900-c006-42ae-8377-7f8b67964bec",
   "metadata": {},
   "outputs": [],
   "source": [
    "d[\"animal\"]=\"Cat\""
   ]
  },
  {
   "cell_type": "code",
   "execution_count": 84,
   "id": "8a1b2bea-e613-4883-882e-6b3eafa94700",
   "metadata": {},
   "outputs": [
    {
     "data": {
      "text/plain": [
       "{'animal': 'Cat'}"
      ]
     },
     "execution_count": 84,
     "metadata": {},
     "output_type": "execute_result"
    }
   ],
   "source": [
    "d"
   ]
  },
  {
   "cell_type": "markdown",
   "id": "c97d65d1-b2d3-4382-8211-d2e8be729155",
   "metadata": {},
   "source": [
    "## Nested Dictionary"
   ]
  },
  {
   "cell_type": "code",
   "execution_count": 86,
   "id": "2d53e267-b9df-4134-b457-f08f8a2256f1",
   "metadata": {},
   "outputs": [],
   "source": [
    "d={\"key1\":{\"nestkey\":{\"subnestkey\":\"value\"}}}"
   ]
  },
  {
   "cell_type": "code",
   "execution_count": 91,
   "id": "1f509a38-2dcb-4af9-9cc2-b5d4406ab801",
   "metadata": {},
   "outputs": [
    {
     "data": {
      "text/plain": [
       "'value'"
      ]
     },
     "execution_count": 91,
     "metadata": {},
     "output_type": "execute_result"
    }
   ],
   "source": [
    "d[\"key1\"][\"nestkey\"][\"subnestkey\"]"
   ]
  },
  {
   "cell_type": "markdown",
   "id": "063eb71a-7e3f-421a-a98d-9aa9d68f3f67",
   "metadata": {},
   "source": [
    "## Dictionary Methods"
   ]
  },
  {
   "cell_type": "code",
   "execution_count": 92,
   "id": "cbb84b38-ecde-47de-badd-a38485832070",
   "metadata": {},
   "outputs": [],
   "source": [
    "f={\"key1\":1,\"key2\":2,\"key3\":3}"
   ]
  },
  {
   "cell_type": "code",
   "execution_count": 93,
   "id": "3342f764-a657-425d-a645-8e8151fa75cd",
   "metadata": {},
   "outputs": [
    {
     "data": {
      "text/plain": [
       "{'key1': 1, 'key2': 2, 'key3': 3}"
      ]
     },
     "execution_count": 93,
     "metadata": {},
     "output_type": "execute_result"
    }
   ],
   "source": [
    "f"
   ]
  },
  {
   "cell_type": "code",
   "execution_count": 94,
   "id": "fdf95504-d130-495f-b9cd-10e3b8a00b1b",
   "metadata": {},
   "outputs": [
    {
     "data": {
      "text/plain": [
       "dict_keys(['key1', 'key2', 'key3'])"
      ]
     },
     "execution_count": 94,
     "metadata": {},
     "output_type": "execute_result"
    }
   ],
   "source": [
    "#1. To list the keys without values\n",
    " f.keys()"
   ]
  },
  {
   "cell_type": "code",
   "execution_count": 95,
   "id": "74688d22-b48a-4fae-8bae-e1c23d89f848",
   "metadata": {},
   "outputs": [
    {
     "data": {
      "text/plain": [
       "dict_items([('key1', {'nestkey': {'subnestkey': 'value'}})])"
      ]
     },
     "execution_count": 95,
     "metadata": {},
     "output_type": "execute_result"
    }
   ],
   "source": [
    "#2. To list both keys and their values as items\n",
    "d.items()"
   ]
  },
  {
   "cell_type": "code",
   "execution_count": 96,
   "id": "33322c7d-035e-4e9e-ac97-3786356abae4",
   "metadata": {},
   "outputs": [
    {
     "data": {
      "text/plain": [
       "dict_items([('key1', 1), ('key2', 2), ('key3', 3)])"
      ]
     },
     "execution_count": 96,
     "metadata": {},
     "output_type": "execute_result"
    }
   ],
   "source": [
    "f.items()"
   ]
  },
  {
   "cell_type": "code",
   "execution_count": null,
   "id": "5f6a2019-fe72-4401-a823-077d30a31988",
   "metadata": {},
   "outputs": [],
   "source": []
  }
 ],
 "metadata": {
  "kernelspec": {
   "display_name": "Python 3 (ipykernel)",
   "language": "python",
   "name": "python3"
  },
  "language_info": {
   "codemirror_mode": {
    "name": "ipython",
    "version": 3
   },
   "file_extension": ".py",
   "mimetype": "text/x-python",
   "name": "python",
   "nbconvert_exporter": "python",
   "pygments_lexer": "ipython3",
   "version": "3.12.7"
  }
 },
 "nbformat": 4,
 "nbformat_minor": 5
}
