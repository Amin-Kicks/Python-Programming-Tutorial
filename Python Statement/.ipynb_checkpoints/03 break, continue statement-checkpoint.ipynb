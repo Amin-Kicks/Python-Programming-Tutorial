{
 "cells": [
  {
   "cell_type": "markdown",
   "id": "11956269-5a05-47e9-89f5-21b2d9bdb395",
   "metadata": {},
   "source": [
    "#### They are used to stop a loop from working when it reaches certain conditions or you wish to keep it."
   ]
  },
  {
   "cell_type": "code",
   "execution_count": 1,
   "id": "f1321495-10f6-4eb4-8bce-c02c220db0ef",
   "metadata": {},
   "outputs": [
    {
     "name": "stdout",
     "output_type": "stream",
     "text": [
      "x is currently:  0\n",
      "x is stil less than 10, adding 1 to x\n",
      "Continuing...\n",
      "x is currently:  1\n",
      "x is stil less than 10, adding 1 to x\n",
      "Continuing...\n",
      "x is currently:  2\n",
      "x is stil less than 10, adding 1 to x\n",
      "x == 3\n",
      "x is currently:  3\n",
      "x is stil less than 10, adding 1 to x\n",
      "Continuing...\n",
      "x is currently:  4\n",
      "x is stil less than 10, adding 1 to x\n",
      "Continuing...\n",
      "x is currently:  5\n",
      "x is stil less than 10, adding 1 to x\n",
      "Continuing...\n",
      "x is currently:  6\n",
      "x is stil less than 10, adding 1 to x\n",
      "Continuing...\n",
      "x is currently:  7\n",
      "x is stil less than 10, adding 1 to x\n",
      "Continuing...\n",
      "x is currently:  8\n",
      "x is stil less than 10, adding 1 to x\n",
      "Continuing...\n",
      "x is currently:  9\n",
      "x is stil less than 10, adding 1 to x\n",
      "Continuing...\n"
     ]
    }
   ],
   "source": [
    "# Example 1\n",
    "x = 0\n",
    "while x < 10:\n",
    "    print(\"x is currently: \", x)\n",
    "    print(\"x is stil less than 10, adding 1 to x\")\n",
    "    x += 1\n",
    "    if x == 3 :\n",
    "        print(\"x == 3\")\n",
    "    else:\n",
    "        print(\"Continuing...\")\n",
    "        continue"
   ]
  },
  {
   "cell_type": "code",
   "execution_count": 2,
   "id": "80148509-b9dd-4d46-8c96-0951deda9c11",
   "metadata": {},
   "outputs": [
    {
     "name": "stdout",
     "output_type": "stream",
     "text": [
      "x is currently:  0\n",
      "x is stil less than 10, adding 1 to x\n",
      "Continuing...\n",
      "x is currently:  1\n",
      "x is stil less than 10, adding 1 to x\n",
      "Continuing...\n",
      "x is currently:  2\n",
      "x is stil less than 10, adding 1 to x\n",
      "x == 3\n"
     ]
    }
   ],
   "source": [
    "x = 0\n",
    "while x < 10:\n",
    "    print(\"x is currently: \", x)\n",
    "    print(\"x is stil less than 10, adding 1 to x\")\n",
    "    x += 1\n",
    "    if x == 3 :\n",
    "        print(\"x == 3\")\n",
    "        break\n",
    "    else:\n",
    "        print(\"Continuing...\")\n",
    "        continue"
   ]
  },
  {
   "cell_type": "code",
   "execution_count": null,
   "id": "471e3183-e1a4-445b-8d01-8a2dd5195521",
   "metadata": {},
   "outputs": [],
   "source": []
  }
 ],
 "metadata": {
  "kernelspec": {
   "display_name": "Python 3 (ipykernel)",
   "language": "python",
   "name": "python3"
  },
  "language_info": {
   "codemirror_mode": {
    "name": "ipython",
    "version": 3
   },
   "file_extension": ".py",
   "mimetype": "text/x-python",
   "name": "python",
   "nbconvert_exporter": "python",
   "pygments_lexer": "ipython3",
   "version": "3.12.7"
  }
 },
 "nbformat": 4,
 "nbformat_minor": 5
}
