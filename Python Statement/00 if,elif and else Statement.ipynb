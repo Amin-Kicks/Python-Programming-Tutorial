{
 "cells": [
  {
   "cell_type": "markdown",
   "id": "39a5cf29-c971-4271-a237-ed92e5c47fd3",
   "metadata": {},
   "source": [
    "## 1. If statement allows/tells the computer to perform alternative actions based on certain set of results.\n",
    "## 2. elif is used if there are two or more conditions to check.\n",
    "## 3. else is always the last condition."
   ]
  },
  {
   "cell_type": "code",
   "execution_count": 1,
   "id": "7a2cec0f-d97a-4993-b025-6c95d3844619",
   "metadata": {},
   "outputs": [
    {
     "name": "stdout",
     "output_type": "stream",
     "text": [
      " It was true\n"
     ]
    }
   ],
   "source": [
    "if True:\n",
    "    print(\" It was true\")"
   ]
  },
  {
   "cell_type": "code",
   "execution_count": 3,
   "id": "1eebc4cb-da79-4aad-b9ab-4790159751f1",
   "metadata": {},
   "outputs": [
    {
     "name": "stdout",
     "output_type": "stream",
     "text": [
      "I will be printed out in case the result is false\n"
     ]
    }
   ],
   "source": [
    "result=False\n",
    "\n",
    "if result:\n",
    "    print(\"Result was true \")\n",
    "else:\n",
    "    print(\"I will be printed out in case the result is false.\")"
   ]
  },
  {
   "cell_type": "code",
   "execution_count": 4,
   "id": "a8536c16-645f-4338-ad25-bd24dd996c95",
   "metadata": {},
   "outputs": [
    {
     "name": "stdout",
     "output_type": "stream",
     "text": [
      "Result was true \n"
     ]
    }
   ],
   "source": [
    "result=True\n",
    "\n",
    "if result:\n",
    "    print(\"Result was true \")\n",
    "else:\n",
    "    print(\"I will be printed out in case the result is false.\")"
   ]
  },
  {
   "cell_type": "code",
   "execution_count": 5,
   "id": "26f8cf22-72de-44c5-92c4-036b46cf509a",
   "metadata": {},
   "outputs": [
    {
     "name": "stdin",
     "output_type": "stream",
     "text": [
      "Enter location of withdrawal Bank\n"
     ]
    },
    {
     "name": "stdout",
     "output_type": "stream",
     "text": [
      "Your location is Bank\n"
     ]
    }
   ],
   "source": [
    "loc=input(\"Enter location of withdrawal\")\n",
    "print(f\"Your location is: {loc}\")"
   ]
  },
  {
   "cell_type": "code",
   "execution_count": 6,
   "id": "3926d409-2512-494c-8b04-607c40324f0b",
   "metadata": {},
   "outputs": [
    {
     "name": "stdin",
     "output_type": "stream",
     "text": [
      "Enter location of withdrawal pos\n"
     ]
    },
    {
     "name": "stdout",
     "output_type": "stream",
     "text": [
      "Your location is: pos\n",
      " Welcome to the POS Termina.l\n"
     ]
    }
   ],
   "source": [
    "loc=input(\"Enter location of withdrawal:\")\n",
    "print(f\"Your location is: {loc}\")\n",
    "\n",
    "if loc==\"pos\":\n",
    "    print( Welcome to the POS Termina.l\")\n",
    "elif loc==\"bank\":\n",
    "    print(\"Welcome to the bank.\")\n",
    "else:\n",
    "    print(\"Where are you?\")"
   ]
  },
  {
   "cell_type": "code",
   "execution_count": 9,
   "id": "97d88b68-69c6-4342-a4e4-814d872f3f33",
   "metadata": {},
   "outputs": [
    {
     "name": "stdin",
     "output_type": "stream",
     "text": [
      "Enter location of withdrawal: POS\n"
     ]
    },
    {
     "name": "stdout",
     "output_type": "stream",
     "text": [
      "Your location is: POS\n",
      "Where are you?\n"
     ]
    }
   ],
   "source": [
    "loc=input(\"Enter location of withdrawal:\")\n",
    "print(f\"Your location is: {loc}\")\n",
    "\n",
    "if loc==\"pos\":\n",
    "    print(\"Welcome to the POS Terminal.\")\n",
    "elif loc==\"bank\":\n",
    "    print(\"Welcome to the bank.\")\n",
    "else:\n",
    "    print(\"Where are you?\")"
   ]
  },
  {
   "cell_type": "code",
   "execution_count": 10,
   "id": "1fa9bdde-0b7a-4053-9294-3c711b845eea",
   "metadata": {},
   "outputs": [
    {
     "name": "stdin",
     "output_type": "stream",
     "text": [
      "Enter location of withdrawal: ATM Machine\n"
     ]
    },
    {
     "name": "stdout",
     "output_type": "stream",
     "text": [
      "Your location is: ATM Machine\n",
      "Where are you?\n"
     ]
    }
   ],
   "source": [
    "loc=input(\"Enter location of withdrawal:\")\n",
    "print(f\"Your location is: {loc}\")\n",
    "\n",
    "if loc==\"pos\":\n",
    "    print(\"Welcome to the POS Terminal.\")\n",
    "elif loc==\"bank\":\n",
    "    print(\"Welcome to the bank.\")\n",
    "else:\n",
    "    print(\"Where are you?\")"
   ]
  },
  {
   "cell_type": "code",
   "execution_count": 11,
   "id": "d0483e5a-9aa6-4768-a533-9499b82bb74a",
   "metadata": {},
   "outputs": [
    {
     "name": "stdin",
     "output_type": "stream",
     "text": [
      "Enter location of withdrawal: bank\n"
     ]
    },
    {
     "name": "stdout",
     "output_type": "stream",
     "text": [
      "Your location is: bank\n",
      "Welcome to the bank.\n"
     ]
    }
   ],
   "source": [
    "loc=input(\"Enter location of withdrawal:\")\n",
    "print(f\"Your location is: {loc}\")\n",
    "\n",
    "if loc==\"pos\":\n",
    "    print(\"Welcome to the POS Terminal.\")\n",
    "elif loc==\"bank\":\n",
    "    print(\"Welcome to the bank.\")\n",
    "else:\n",
    "    print(\"Where are you?\")"
   ]
  },
  {
   "cell_type": "code",
   "execution_count": 12,
   "id": "9b05a8a3-035d-457b-95cb-58619485916f",
   "metadata": {},
   "outputs": [
    {
     "name": "stdin",
     "output_type": "stream",
     "text": [
      "Enter a number: 35\n"
     ]
    },
    {
     "name": "stdout",
     "output_type": "stream",
     "text": [
      "The number 35 is an odd number.\n"
     ]
    }
   ],
   "source": [
    "#TO check if an input is an even or odd number.\n",
    "Number=int(input(\"Enter a number:\"))\n",
    "if Number % 2==0:\n",
    "    print(f\"The number {Number} is an even number.\")\n",
    "else:\n",
    "    print(f\"The number {Number} is an odd number.\")"
   ]
  },
  {
   "cell_type": "code",
   "execution_count": 13,
   "id": "995193af-d27c-4265-9aa2-2dcc832c2fb3",
   "metadata": {},
   "outputs": [
    {
     "name": "stdin",
     "output_type": "stream",
     "text": [
      "Enter a number: 26\n"
     ]
    },
    {
     "name": "stdout",
     "output_type": "stream",
     "text": [
      "The number 26 is an even number.\n"
     ]
    }
   ],
   "source": [
    "#TO check if an input is an even or odd number.\n",
    "Number=int(input(\"Enter a number:\"))\n",
    "if Number % 2==0:\n",
    "    print(f\"The number {Number} is an even number.\")\n",
    "else:\n",
    "    print(f\"The number {Number} is an odd number.\")"
   ]
  },
  {
   "cell_type": "code",
   "execution_count": 14,
   "id": "0fd6def1-02ca-4333-9846-912e5fffbfb2",
   "metadata": {},
   "outputs": [
    {
     "name": "stdin",
     "output_type": "stream",
     "text": [
      "Enter a number: 00\n"
     ]
    },
    {
     "name": "stdout",
     "output_type": "stream",
     "text": [
      "The number is neutral.\n"
     ]
    }
   ],
   "source": [
    "#To check if a number is positive,negative or neutral.\n",
    "num=int(input(\"Enter a number:\"))\n",
    "if num==0:\n",
    "    print(\"The number is neutral.\")\n",
    "elif num>0:\n",
    "    print(\"The number is positive.\")\n",
    "else:\n",
    "    print(\"The number is negative.\")"
   ]
  },
  {
   "cell_type": "code",
   "execution_count": 15,
   "id": "054a724c-25f6-42df-9c7c-cabb0686f2e7",
   "metadata": {},
   "outputs": [
    {
     "name": "stdin",
     "output_type": "stream",
     "text": [
      "Enter a number: -9\n"
     ]
    },
    {
     "name": "stdout",
     "output_type": "stream",
     "text": [
      "The number is negative.\n"
     ]
    }
   ],
   "source": [
    "#To check if a number is positive,negative or neutral.\n",
    "num=int(input(\"Enter a number:\"))\n",
    "if num==0:\n",
    "    print(\"The number is neutral.\")\n",
    "elif num>0:\n",
    "    print(\"The number is positive.\")\n",
    "else:\n",
    "    print(\"The number is negative.\")"
   ]
  },
  {
   "cell_type": "code",
   "execution_count": 16,
   "id": "b2237864-a96b-4677-85d0-b1194e21f742",
   "metadata": {},
   "outputs": [
    {
     "name": "stdin",
     "output_type": "stream",
     "text": [
      "Enter a number: 6\n"
     ]
    },
    {
     "name": "stdout",
     "output_type": "stream",
     "text": [
      "The number is positive.\n"
     ]
    }
   ],
   "source": [
    "#To check if a number is positive,negative or neutral.\n",
    "num=int(input(\"Enter a number:\"))\n",
    "if num==0:\n",
    "    print(\"The number is neutral.\")\n",
    "elif num>0:\n",
    "    print(\"The number is positive.\")\n",
    "else:\n",
    "    print(\"The number is negative.\")"
   ]
  },
  {
   "cell_type": "code",
   "execution_count": null,
   "id": "2159d802-3b9c-4e46-a2e4-564fd6f554bf",
   "metadata": {},
   "outputs": [],
   "source": []
  }
 ],
 "metadata": {
  "kernelspec": {
   "display_name": "Python 3 (ipykernel)",
   "language": "python",
   "name": "python3"
  },
  "language_info": {
   "codemirror_mode": {
    "name": "ipython",
    "version": 3
   },
   "file_extension": ".py",
   "mimetype": "text/x-python",
   "name": "python",
   "nbconvert_exporter": "python",
   "pygments_lexer": "ipython3",
   "version": "3.12.7"
  }
 },
 "nbformat": 4,
 "nbformat_minor": 5
}
