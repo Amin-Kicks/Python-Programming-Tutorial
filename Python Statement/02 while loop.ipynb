{
 "cells": [
  {
   "cell_type": "markdown",
   "id": "8def03c2-ca64-443a-a147-93042359cdb0",
   "metadata": {},
   "source": [
    "## Like 'for loop', while loop is also used to iterate a through a list of items but with a slightly different syntax. "
   ]
  },
  {
   "cell_type": "code",
   "execution_count": 2,
   "id": "9d2b9c9e-7f61-4dbf-90d1-679726e8844b",
   "metadata": {},
   "outputs": [
    {
     "name": "stdout",
     "output_type": "stream",
     "text": [
      "x is currently:  0\n",
      "x is stil less than 10, adding 1 to x\n",
      "x is currently:  1\n",
      "x is stil less than 10, adding 1 to x\n",
      "x is currently:  2\n",
      "x is stil less than 10, adding 1 to x\n",
      "x is currently:  3\n",
      "x is stil less than 10, adding 1 to x\n",
      "x is currently:  4\n",
      "x is stil less than 10, adding 1 to x\n",
      "x is currently:  5\n",
      "x is stil less than 10, adding 1 to x\n",
      "x is currently:  6\n",
      "x is stil less than 10, adding 1 to x\n",
      "x is currently:  7\n",
      "x is stil less than 10, adding 1 to x\n",
      "x is currently:  8\n",
      "x is stil less than 10, adding 1 to x\n",
      "x is currently:  9\n",
      "x is stil less than 10, adding 1 to x\n"
     ]
    }
   ],
   "source": [
    "# Example 1\n",
    "\n",
    "x = 0\n",
    "while x < 10:\n",
    "    print(\"x is currently: \", x)\n",
    "    print(\"x is stil less than 10, adding 1 to x\")\n",
    "    x += 1"
   ]
  },
  {
   "cell_type": "code",
   "execution_count": 3,
   "id": "b1d9b9e4-2b80-46bd-b0fa-d58d00b12f97",
   "metadata": {},
   "outputs": [
    {
     "name": "stdout",
     "output_type": "stream",
     "text": [
      "5 * 1 = 5\n",
      "5 * 2 = 10\n",
      "5 * 3 = 15\n",
      "5 * 4 = 20\n",
      "5 * 5 = 25\n",
      "5 * 6 = 30\n",
      "5 * 7 = 35\n",
      "5 * 8 = 40\n",
      "5 * 9 = 45\n",
      "5 * 10 = 50\n",
      "5 * 11 = 55\n",
      "5 * 12 = 60\n"
     ]
    }
   ],
   "source": [
    "# Example 2:Multiplication Table\n",
    "\n",
    "num = 5\n",
    "max_num = 12\n",
    "start_point = 1\n",
    "while start_point <= max_num:\n",
    "    ans = num * start_point\n",
    "    print(f\"{num} * {start_point} = {ans}\")\n",
    "    start_point += 1"
   ]
  },
  {
   "cell_type": "code",
   "execution_count": null,
   "id": "680da9d3-0e7f-4bf7-9378-7f19c35c3036",
   "metadata": {},
   "outputs": [],
   "source": []
  }
 ],
 "metadata": {
  "kernelspec": {
   "display_name": "Python 3 (ipykernel)",
   "language": "python",
   "name": "python3"
  },
  "language_info": {
   "codemirror_mode": {
    "name": "ipython",
    "version": 3
   },
   "file_extension": ".py",
   "mimetype": "text/x-python",
   "name": "python",
   "nbconvert_exporter": "python",
   "pygments_lexer": "ipython3",
   "version": "3.12.7"
  }
 },
 "nbformat": 4,
 "nbformat_minor": 5
}
