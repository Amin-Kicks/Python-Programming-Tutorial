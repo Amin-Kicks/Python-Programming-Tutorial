{
 "cells": [
  {
   "cell_type": "markdown",
   "id": "2cf10941-969b-4b0b-93aa-158c3497bb84",
   "metadata": {},
   "source": [
    "### It is an iterator in python for performing repetitive task.It goes through items in a sequence or or any iteratable item e.g list,tuple,etc.It is carried out with the keyword 'for'."
   ]
  },
  {
   "cell_type": "code",
   "execution_count": 1,
   "id": "9ec013bd-03ef-4112-b5dd-a15ffda85056",
   "metadata": {},
   "outputs": [
    {
     "data": {
      "text/plain": [
       "1"
      ]
     },
     "execution_count": 1,
     "metadata": {},
     "output_type": "execute_result"
    }
   ],
   "source": [
    "# Example 1: Iterating a list\n",
    "lst1 = [1, 2, 3, 4, 5, 6, 7, 8, 9, 10]\n",
    "lst1[0]"
   ]
  },
  {
   "cell_type": "code",
   "execution_count": 2,
   "id": "809badfe-342c-4184-817e-364bab5dec09",
   "metadata": {},
   "outputs": [
    {
     "data": {
      "text/plain": [
       "3"
      ]
     },
     "execution_count": 2,
     "metadata": {},
     "output_type": "execute_result"
    }
   ],
   "source": [
    "lst1[2]"
   ]
  },
  {
   "cell_type": "code",
   "execution_count": 4,
   "id": "9b7edc37-9d2b-475e-b5b9-fc142ea6317f",
   "metadata": {},
   "outputs": [],
   "source": [
    "lst1 = [1, 2, 3, 4, 5, 6, 7, 8, 9, 10]"
   ]
  },
  {
   "cell_type": "code",
   "execution_count": 5,
   "id": "f07bb9df-ca71-4de7-bc69-215706a67d45",
   "metadata": {},
   "outputs": [
    {
     "name": "stdout",
     "output_type": "stream",
     "text": [
      "1\n",
      "2\n",
      "3\n",
      "4\n",
      "5\n",
      "6\n",
      "7\n",
      "8\n",
      "9\n",
      "10\n"
     ]
    }
   ],
   "source": [
    "for num in lst1:\n",
    "    print(num)"
   ]
  },
  {
   "cell_type": "code",
   "execution_count": 7,
   "id": "1e5b1fd3-d3ed-4c94-b3fb-d2d57fc5d6ac",
   "metadata": {},
   "outputs": [
    {
     "name": "stdout",
     "output_type": "stream",
     "text": [
      "The number 1 is an odd number.\n",
      "The number 2 is an even number.\n",
      "The number 3 is an odd number.\n",
      "The number 4 is an even number.\n",
      "The number 5 is an odd number.\n",
      "The number 6 is an even number.\n",
      "The number 7 is an odd number.\n",
      "The number 8 is an even number.\n",
      "The number 9 is an odd number.\n",
      "The number 10 is an even number.\n"
     ]
    }
   ],
   "source": [
    "for num in lst1:\n",
    "    if num % 2 == 0:\n",
    "        print(f\"The number {num} is an even number.\")\n",
    "    else:\n",
    "        print(f\"The number {num} is an odd number.\")"
   ]
  },
  {
   "cell_type": "code",
   "execution_count": 8,
   "id": "d1842504-fb68-40ae-974c-643d8c73ae4d",
   "metadata": {},
   "outputs": [
    {
     "data": {
      "text/plain": [
       "[1, 2, 3, 4, 5, 6, 7, 8, 9, 10]"
      ]
     },
     "execution_count": 8,
     "metadata": {},
     "output_type": "execute_result"
    }
   ],
   "source": [
    "# Example 2: Adding items in a list\n",
    "lst1"
   ]
  },
  {
   "cell_type": "code",
   "execution_count": 9,
   "id": "6917c445-a872-4e45-aa70-d8b262dfe1d9",
   "metadata": {},
   "outputs": [],
   "source": [
    "lst_sum = 0 #variable to store the item\n",
    "for num in lst1:\n",
    "    lst_sum = lst_sum + num"
   ]
  },
  {
   "cell_type": "code",
   "execution_count": 14,
   "id": "d3ab57fd-bef7-44e8-add7-2cbca505280f",
   "metadata": {},
   "outputs": [
    {
     "name": "stdout",
     "output_type": "stream",
     "text": [
      "55\n"
     ]
    }
   ],
   "source": [
    "print(lst_sum)"
   ]
  },
  {
   "cell_type": "code",
   "execution_count": 16,
   "id": "ceff9aeb-2fc9-4e59-af29-34b886abc1ba",
   "metadata": {},
   "outputs": [],
   "source": [
    "lst_sum = 0 #variable to store the item\n",
    "for num in lst1:\n",
    "    lst_sum += num"
   ]
  },
  {
   "cell_type": "code",
   "execution_count": 17,
   "id": "0f4c7de0-8603-400b-8e2d-3b2a3a7a1a17",
   "metadata": {},
   "outputs": [
    {
     "name": "stdout",
     "output_type": "stream",
     "text": [
      "55\n"
     ]
    }
   ],
   "source": [
    "print(lst_sum)"
   ]
  },
  {
   "cell_type": "code",
   "execution_count": 4,
   "id": "2d501d36-7557-45f6-9049-8b07a9995e52",
   "metadata": {},
   "outputs": [],
   "source": [
    "lst1 = [1, 2, 3, 4, 5, 6, 7, 8, 9, 10]"
   ]
  },
  {
   "cell_type": "code",
   "execution_count": 7,
   "id": "ccca48fe-9f8b-4cf3-af53-75aec2dc1c00",
   "metadata": {},
   "outputs": [
    {
     "name": "stdout",
     "output_type": "stream",
     "text": [
      "The total sum of even numbers is: 30\n",
      "The total sum of odd numbers is: 25\n"
     ]
    }
   ],
   "source": [
    "even_sum = 0\n",
    "odd_sum = 0\n",
    "for num in lst1:\n",
    "    if num % 2 == 0:\n",
    "        even_sum += num\n",
    "    else:\n",
    "        odd_sum += num\n",
    "        \n",
    "print(f\"The total sum of even numbers is: {even_sum}\")\n",
    "print(f\"The total sum of odd numbers is: {odd_sum}\") "
   ]
  },
  {
   "cell_type": "code",
   "execution_count": 11,
   "id": "3cad1cce-c059-4e47-980e-5790eac0e5bc",
   "metadata": {},
   "outputs": [
    {
     "name": "stdout",
     "output_type": "stream",
     "text": [
      "T\n",
      "h\n",
      "i\n",
      "s\n",
      " \n",
      "i\n",
      "s\n",
      " \n",
      "a\n",
      " \n",
      "s\n",
      "t\n",
      "r\n",
      "i\n",
      "n\n",
      "g\n"
     ]
    }
   ],
   "source": [
    "## Example 3: Using for loops for strings\n",
    "\n",
    "for letter in \"This is a string\":\n",
    "    print(letter)"
   ]
  },
  {
   "cell_type": "code",
   "execution_count": 12,
   "id": "54bc2bc1-6c63-4a4c-a13c-03028884c042",
   "metadata": {},
   "outputs": [
    {
     "name": "stdout",
     "output_type": "stream",
     "text": [
      "1\n",
      "2\n",
      "3\n",
      "4\n",
      "5\n"
     ]
    }
   ],
   "source": [
    "## Example 4: Tuple and for loop\n",
    "\n",
    "tup = (1, 2, 3, 4, 5)\n",
    "for i in tup:\n",
    "    print(i)"
   ]
  },
  {
   "cell_type": "code",
   "execution_count": null,
   "id": "11b9a05d-635c-4046-9bfd-61fd5f4c3e7c",
   "metadata": {},
   "outputs": [],
   "source": []
  },
  {
   "cell_type": "code",
   "execution_count": null,
   "id": "ff78c715-8f28-4c73-bac0-34478cae7120",
   "metadata": {},
   "outputs": [],
   "source": []
  },
  {
   "cell_type": "code",
   "execution_count": null,
   "id": "d31f2211-2866-4f59-80bc-845f2aeb8c23",
   "metadata": {},
   "outputs": [],
   "source": []
  },
  {
   "cell_type": "code",
   "execution_count": null,
   "id": "9c92bd39-8ea2-4db4-925a-02380b2cb5ac",
   "metadata": {},
   "outputs": [],
   "source": []
  },
  {
   "cell_type": "code",
   "execution_count": null,
   "id": "70c32067-e250-46df-877e-dbb542a3b27d",
   "metadata": {},
   "outputs": [],
   "source": []
  },
  {
   "cell_type": "code",
   "execution_count": null,
   "id": "2f8afb8e-b1e3-4985-9c38-11eea254243c",
   "metadata": {},
   "outputs": [],
   "source": []
  }
 ],
 "metadata": {
  "kernelspec": {
   "display_name": "Python 3 (ipykernel)",
   "language": "python",
   "name": "python3"
  },
  "language_info": {
   "codemirror_mode": {
    "name": "ipython",
    "version": 3
   },
   "file_extension": ".py",
   "mimetype": "text/x-python",
   "name": "python",
   "nbconvert_exporter": "python",
   "pygments_lexer": "ipython3",
   "version": "3.12.7"
  }
 },
 "nbformat": 4,
 "nbformat_minor": 5
}
