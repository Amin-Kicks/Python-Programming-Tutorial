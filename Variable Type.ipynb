{
 "cells": [
  {
   "cell_type": "markdown",
   "id": "1afd8b59-581b-4dd5-b14a-ec0e8b56a55c",
   "metadata": {},
   "source": [
    "## Variable Types\n"
   ]
  },
  {
   "cell_type": "code",
   "execution_count": null,
   "id": "930ad701-095e-4e71-8356-d7cff3e781f7",
   "metadata": {},
   "outputs": [],
   "source": [
    "'''\n",
    "1. int(integer):Whole number e.g 1,3,2000,900000\n",
    "2. float:Decimal Point e.g 3.56,0.45\n",
    "3. str(string): Ordered sequence of objects in quotation e.g \"jay\",\"4\"\n",
    "4. list: Sequence of objects in square bracket[] e.g [1,'hello',2.3]\n",
    "5. tuple: Immutable sequence of objects in parenthesis()\n",
    "6. dict(dictionary): Unordered Key-Value pair in curly brackets e.g {\"jay\":1,3,\"Abdullah\" , \"Aliu\":\"Faruq\"30,2}\n",
    "7. set:\n",
    "8. bool(boolean):Logical Value indicating True or False"
   ]
  },
  {
   "cell_type": "code",
   "execution_count": 4,
   "id": "f39b3577-10c3-4d8d-8a85-3d11b03f942c",
   "metadata": {},
   "outputs": [
    {
     "data": {
      "text/plain": [
       "float"
      ]
     },
     "execution_count": 4,
     "metadata": {},
     "output_type": "execute_result"
    }
   ],
   "source": [
    "gpa=5.0\n",
    "type(gpa)"
   ]
  },
  {
   "cell_type": "code",
   "execution_count": 5,
   "id": "2801c1ca-933e-4ca4-a8c9-a564b1a36d1f",
   "metadata": {},
   "outputs": [
    {
     "data": {
      "text/plain": [
       "int"
      ]
     },
     "execution_count": 5,
     "metadata": {},
     "output_type": "execute_result"
    }
   ],
   "source": [
    "salary=100000000\n",
    "type(salary)"
   ]
  },
  {
   "cell_type": "code",
   "execution_count": 6,
   "id": "142634ca-27ae-45c7-b49c-a8bbe98c4e60",
   "metadata": {},
   "outputs": [
    {
     "data": {
      "text/plain": [
       "str"
      ]
     },
     "execution_count": 6,
     "metadata": {},
     "output_type": "execute_result"
    }
   ],
   "source": [
    "Atom=\"1\",\n",
    "type(Atom)"
   ]
  },
  {
   "cell_type": "code",
   "execution_count": 13,
   "id": "44b234f0-4a5e-4eac-86d9-dc2571cc5387",
   "metadata": {},
   "outputs": [
    {
     "data": {
      "text/plain": [
       "list"
      ]
     },
     "execution_count": 13,
     "metadata": {},
     "output_type": "execute_result"
    }
   ],
   "source": [
    "my_courses=['eee','aee',206]\n",
    "type(my_courses)"
   ]
  },
  {
   "cell_type": "code",
   "execution_count": 15,
   "id": "b6c6bed3-6e48-40e5-8004-f7af20f20513",
   "metadata": {},
   "outputs": [
    {
     "data": {
      "text/plain": [
       "tuple"
      ]
     },
     "execution_count": 15,
     "metadata": {},
     "output_type": "execute_result"
    }
   ],
   "source": [
    "electives=('sel','sep')\n",
    "type(electives)"
   ]
  },
  {
   "cell_type": "code",
   "execution_count": 23,
   "id": "a4303da0-9b8d-4197-98c0-a26bfff2c0fa",
   "metadata": {},
   "outputs": [
    {
     "data": {
      "text/plain": [
       "dict"
      ]
     },
     "execution_count": 23,
     "metadata": {},
     "output_type": "execute_result"
    }
   ],
   "source": [
    "part={\"first-semester\":[\"lib\",\"ser\",\"tpd\",\"seh\",\"sep\"],\"second-semester\":(\"seo002\",\"seo004\")}\n",
    "type(part)"
   ]
  },
  {
   "cell_type": "code",
   "execution_count": 33,
   "id": "01ad57f2-f45a-4dc3-8f94-eb23abc223b6",
   "metadata": {},
   "outputs": [
    {
     "data": {
      "text/plain": [
       "set"
      ]
     },
     "execution_count": 33,
     "metadata": {},
     "output_type": "execute_result"
    }
   ],
   "source": [
    "part1={\"first-semester\"==\"lib\",\"ser\",\"tpd\",\"seh\",\"sep\",\"second-semester\"==\"seo002\",\"seo004\"}\n",
    "type(part1)"
   ]
  },
  {
   "cell_type": "code",
   "execution_count": 37,
   "id": "b04df31c-bdaa-4623-b11e-b8b5aef6793f",
   "metadata": {},
   "outputs": [
    {
     "data": {
      "text/plain": [
       "bool"
      ]
     },
     "execution_count": 37,
     "metadata": {},
     "output_type": "execute_result"
    }
   ],
   "source": [
    "correct=True\n",
    "wrong=False\n",
    "type(correct)\n",
    "type(wrong)"
   ]
  },
  {
   "cell_type": "code",
   "execution_count": null,
   "id": "cd5e056d-4fbd-4606-9022-378ff63370b2",
   "metadata": {},
   "outputs": [],
   "source": []
  }
 ],
 "metadata": {
  "kernelspec": {
   "display_name": "Python 3 (ipykernel)",
   "language": "python",
   "name": "python3"
  },
  "language_info": {
   "codemirror_mode": {
    "name": "ipython",
    "version": 3
   },
   "file_extension": ".py",
   "mimetype": "text/x-python",
   "name": "python",
   "nbconvert_exporter": "python",
   "pygments_lexer": "ipython3",
   "version": "3.12.7"
  }
 },
 "nbformat": 4,
 "nbformat_minor": 5
}
